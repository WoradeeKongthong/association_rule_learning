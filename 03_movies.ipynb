{
  "nbformat": 4,
  "nbformat_minor": 0,
  "metadata": {
    "colab": {
      "name": "03_movies.ipynb",
      "provenance": [],
      "authorship_tag": "ABX9TyM947czCI4vdBm1OhP+0aNX",
      "include_colab_link": true
    },
    "kernelspec": {
      "name": "python3",
      "display_name": "Python 3"
    }
  },
  "cells": [
    {
      "cell_type": "markdown",
      "metadata": {
        "id": "view-in-github",
        "colab_type": "text"
      },
      "source": [
        "<a href=\"https://colab.research.google.com/github/WoradeeKongthong/association_rule_learning/blob/master/03_movies.ipynb\" target=\"_parent\"><img src=\"https://colab.research.google.com/assets/colab-badge.svg\" alt=\"Open In Colab\"/></a>"
      ]
    },
    {
      "cell_type": "code",
      "metadata": {
        "id": "ik4E0oLDFrUR",
        "colab_type": "code",
        "colab": {}
      },
      "source": [
        "import numpy as np\n",
        "import pandas as pd\n",
        "import matplotlib.pyplot as plt\n",
        "import seaborn as sns"
      ],
      "execution_count": 0,
      "outputs": []
    },
    {
      "cell_type": "markdown",
      "metadata": {
        "id": "L8HXlPYCecX3",
        "colab_type": "text"
      },
      "source": [
        "# Dataset\n",
        "data source :  \n",
        "https://www.kaggle.com/rounakbanik/the-movies-dataset?select=ratings_small.csv  \n",
        "https://www.kaggle.com/rounakbanik/the-movies-dataset?select=movies_metadata.csv"
      ]
    },
    {
      "cell_type": "code",
      "metadata": {
        "id": "1AZkB1mVXb3_",
        "colab_type": "code",
        "colab": {}
      },
      "source": [
        "movies = pd.read_csv('movies_metadata.csv',usecols=[5,8],dtype={'id':str},index_col='id')\n",
        "ratings = pd.read_csv('ratings_small.csv',dtype={'movieId':str},usecols=[0,1,2])"
      ],
      "execution_count": 0,
      "outputs": []
    },
    {
      "cell_type": "code",
      "metadata": {
        "id": "uufJmaSIaUbL",
        "colab_type": "code",
        "colab": {
          "base_uri": "https://localhost:8080/",
          "height": 153
        },
        "outputId": "00860776-d3f0-4f3b-f7b8-cea739fa5759"
      },
      "source": [
        "movies.info()"
      ],
      "execution_count": 257,
      "outputs": [
        {
          "output_type": "stream",
          "text": [
            "<class 'pandas.core.frame.DataFrame'>\n",
            "Index: 45466 entries, 862 to 461257\n",
            "Data columns (total 1 columns):\n",
            " #   Column          Non-Null Count  Dtype \n",
            "---  ------          --------------  ----- \n",
            " 0   original_title  45466 non-null  object\n",
            "dtypes: object(1)\n",
            "memory usage: 710.4+ KB\n"
          ],
          "name": "stdout"
        }
      ]
    },
    {
      "cell_type": "code",
      "metadata": {
        "id": "R6jenJq5aZuw",
        "colab_type": "code",
        "colab": {
          "base_uri": "https://localhost:8080/",
          "height": 187
        },
        "outputId": "efbd726d-59f5-463e-cf88-4ca60df114e6"
      },
      "source": [
        "ratings.info()"
      ],
      "execution_count": 258,
      "outputs": [
        {
          "output_type": "stream",
          "text": [
            "<class 'pandas.core.frame.DataFrame'>\n",
            "RangeIndex: 100004 entries, 0 to 100003\n",
            "Data columns (total 3 columns):\n",
            " #   Column   Non-Null Count   Dtype  \n",
            "---  ------   --------------   -----  \n",
            " 0   userId   100004 non-null  int64  \n",
            " 1   movieId  100004 non-null  object \n",
            " 2   rating   100004 non-null  float64\n",
            "dtypes: float64(1), int64(1), object(1)\n",
            "memory usage: 2.3+ MB\n"
          ],
          "name": "stdout"
        }
      ]
    },
    {
      "cell_type": "code",
      "metadata": {
        "id": "nS1z-ppNa9b-",
        "colab_type": "code",
        "colab": {}
      },
      "source": [
        "df = ratings.join(movies, on='movieId', how='left')"
      ],
      "execution_count": 0,
      "outputs": []
    },
    {
      "cell_type": "code",
      "metadata": {
        "id": "zKkb4rNybyFk",
        "colab_type": "code",
        "colab": {
          "base_uri": "https://localhost:8080/",
          "height": 204
        },
        "outputId": "5aa74330-6ca4-4225-852e-b429950752df"
      },
      "source": [
        "df.info()"
      ],
      "execution_count": 260,
      "outputs": [
        {
          "output_type": "stream",
          "text": [
            "<class 'pandas.core.frame.DataFrame'>\n",
            "Int64Index: 100009 entries, 0 to 100003\n",
            "Data columns (total 4 columns):\n",
            " #   Column          Non-Null Count   Dtype  \n",
            "---  ------          --------------   -----  \n",
            " 0   userId          100009 non-null  int64  \n",
            " 1   movieId         100009 non-null  object \n",
            " 2   rating          100009 non-null  float64\n",
            " 3   original_title  44994 non-null   object \n",
            "dtypes: float64(1), int64(1), object(2)\n",
            "memory usage: 3.8+ MB\n"
          ],
          "name": "stdout"
        }
      ]
    },
    {
      "cell_type": "code",
      "metadata": {
        "id": "PFg3zUn8eKbp",
        "colab_type": "code",
        "colab": {}
      },
      "source": [
        "df.dropna(axis=0, inplace=True)"
      ],
      "execution_count": 0,
      "outputs": []
    },
    {
      "cell_type": "code",
      "metadata": {
        "id": "IduumgQ8ePTK",
        "colab_type": "code",
        "colab": {
          "base_uri": "https://localhost:8080/",
          "height": 419
        },
        "outputId": "9d3e9a33-8dbf-405b-f936-5ed3ca082d53"
      },
      "source": [
        "df"
      ],
      "execution_count": 262,
      "outputs": [
        {
          "output_type": "execute_result",
          "data": {
            "text/html": [
              "<div>\n",
              "<style scoped>\n",
              "    .dataframe tbody tr th:only-of-type {\n",
              "        vertical-align: middle;\n",
              "    }\n",
              "\n",
              "    .dataframe tbody tr th {\n",
              "        vertical-align: top;\n",
              "    }\n",
              "\n",
              "    .dataframe thead th {\n",
              "        text-align: right;\n",
              "    }\n",
              "</style>\n",
              "<table border=\"1\" class=\"dataframe\">\n",
              "  <thead>\n",
              "    <tr style=\"text-align: right;\">\n",
              "      <th></th>\n",
              "      <th>userId</th>\n",
              "      <th>movieId</th>\n",
              "      <th>rating</th>\n",
              "      <th>original_title</th>\n",
              "    </tr>\n",
              "  </thead>\n",
              "  <tbody>\n",
              "    <tr>\n",
              "      <th>10</th>\n",
              "      <td>1</td>\n",
              "      <td>1371</td>\n",
              "      <td>2.5</td>\n",
              "      <td>Rocky III</td>\n",
              "    </tr>\n",
              "    <tr>\n",
              "      <th>11</th>\n",
              "      <td>1</td>\n",
              "      <td>1405</td>\n",
              "      <td>1.0</td>\n",
              "      <td>Greed</td>\n",
              "    </tr>\n",
              "    <tr>\n",
              "      <th>13</th>\n",
              "      <td>1</td>\n",
              "      <td>2105</td>\n",
              "      <td>4.0</td>\n",
              "      <td>American Pie</td>\n",
              "    </tr>\n",
              "    <tr>\n",
              "      <th>15</th>\n",
              "      <td>1</td>\n",
              "      <td>2193</td>\n",
              "      <td>2.0</td>\n",
              "      <td>My Tutor</td>\n",
              "    </tr>\n",
              "    <tr>\n",
              "      <th>16</th>\n",
              "      <td>1</td>\n",
              "      <td>2294</td>\n",
              "      <td>2.0</td>\n",
              "      <td>Jay and Silent Bob Strike Back</td>\n",
              "    </tr>\n",
              "    <tr>\n",
              "      <th>...</th>\n",
              "      <td>...</td>\n",
              "      <td>...</td>\n",
              "      <td>...</td>\n",
              "      <td>...</td>\n",
              "    </tr>\n",
              "    <tr>\n",
              "      <th>99983</th>\n",
              "      <td>671</td>\n",
              "      <td>4995</td>\n",
              "      <td>4.0</td>\n",
              "      <td>Boogie Nights</td>\n",
              "    </tr>\n",
              "    <tr>\n",
              "      <th>99992</th>\n",
              "      <td>671</td>\n",
              "      <td>5816</td>\n",
              "      <td>4.0</td>\n",
              "      <td>Ober</td>\n",
              "    </tr>\n",
              "    <tr>\n",
              "      <th>99993</th>\n",
              "      <td>671</td>\n",
              "      <td>5902</td>\n",
              "      <td>3.5</td>\n",
              "      <td>A Bridge Too Far</td>\n",
              "    </tr>\n",
              "    <tr>\n",
              "      <th>99996</th>\n",
              "      <td>671</td>\n",
              "      <td>5991</td>\n",
              "      <td>4.5</td>\n",
              "      <td>Der letzte Mann</td>\n",
              "    </tr>\n",
              "    <tr>\n",
              "      <th>99997</th>\n",
              "      <td>671</td>\n",
              "      <td>5995</td>\n",
              "      <td>4.0</td>\n",
              "      <td>Miffo</td>\n",
              "    </tr>\n",
              "  </tbody>\n",
              "</table>\n",
              "<p>44994 rows × 4 columns</p>\n",
              "</div>"
            ],
            "text/plain": [
              "       userId movieId  rating                  original_title\n",
              "10          1    1371     2.5                       Rocky III\n",
              "11          1    1405     1.0                           Greed\n",
              "13          1    2105     4.0                    American Pie\n",
              "15          1    2193     2.0                        My Tutor\n",
              "16          1    2294     2.0  Jay and Silent Bob Strike Back\n",
              "...       ...     ...     ...                             ...\n",
              "99983     671    4995     4.0                   Boogie Nights\n",
              "99992     671    5816     4.0                            Ober\n",
              "99993     671    5902     3.5                A Bridge Too Far\n",
              "99996     671    5991     4.5                 Der letzte Mann\n",
              "99997     671    5995     4.0                           Miffo\n",
              "\n",
              "[44994 rows x 4 columns]"
            ]
          },
          "metadata": {
            "tags": []
          },
          "execution_count": 262
        }
      ]
    },
    {
      "cell_type": "code",
      "metadata": {
        "id": "qy8zPC0tfk8w",
        "colab_type": "code",
        "colab": {
          "base_uri": "https://localhost:8080/",
          "height": 204
        },
        "outputId": "17476c2f-0529-46a2-d6e9-62181d89d098"
      },
      "source": [
        "df['rating'].value_counts()"
      ],
      "execution_count": 263,
      "outputs": [
        {
          "output_type": "execute_result",
          "data": {
            "text/plain": [
              "4.0    13163\n",
              "3.0     9899\n",
              "5.0     7335\n",
              "3.5     4038\n",
              "2.0     3237\n",
              "4.5     3017\n",
              "2.5     1726\n",
              "1.0     1518\n",
              "1.5      652\n",
              "0.5      409\n",
              "Name: rating, dtype: int64"
            ]
          },
          "metadata": {
            "tags": []
          },
          "execution_count": 263
        }
      ]
    },
    {
      "cell_type": "markdown",
      "metadata": {
        "id": "-X0FdckDfRHs",
        "colab_type": "text"
      },
      "source": [
        "I consider the movies that the user likes,  \n",
        "so I'll choose the movies that get the rating more than 2.5 (maximum rating = 5)"
      ]
    },
    {
      "cell_type": "code",
      "metadata": {
        "id": "xxGMCoZ1e8vm",
        "colab_type": "code",
        "colab": {}
      },
      "source": [
        "movie_df = df[df['rating']>2.5][['userId','original_title']].copy()"
      ],
      "execution_count": 0,
      "outputs": []
    },
    {
      "cell_type": "code",
      "metadata": {
        "id": "HQ0fSenkg6ld",
        "colab_type": "code",
        "colab": {
          "base_uri": "https://localhost:8080/",
          "height": 419
        },
        "outputId": "bd56be92-385b-4931-f88b-922d44cbacaa"
      },
      "source": [
        "movie_df"
      ],
      "execution_count": 265,
      "outputs": [
        {
          "output_type": "execute_result",
          "data": {
            "text/html": [
              "<div>\n",
              "<style scoped>\n",
              "    .dataframe tbody tr th:only-of-type {\n",
              "        vertical-align: middle;\n",
              "    }\n",
              "\n",
              "    .dataframe tbody tr th {\n",
              "        vertical-align: top;\n",
              "    }\n",
              "\n",
              "    .dataframe thead th {\n",
              "        text-align: right;\n",
              "    }\n",
              "</style>\n",
              "<table border=\"1\" class=\"dataframe\">\n",
              "  <thead>\n",
              "    <tr style=\"text-align: right;\">\n",
              "      <th></th>\n",
              "      <th>userId</th>\n",
              "      <th>original_title</th>\n",
              "    </tr>\n",
              "  </thead>\n",
              "  <tbody>\n",
              "    <tr>\n",
              "      <th>13</th>\n",
              "      <td>1</td>\n",
              "      <td>American Pie</td>\n",
              "    </tr>\n",
              "    <tr>\n",
              "      <th>21</th>\n",
              "      <td>2</td>\n",
              "      <td>The Dark</td>\n",
              "    </tr>\n",
              "    <tr>\n",
              "      <th>26</th>\n",
              "      <td>2</td>\n",
              "      <td>2001: A Space Odyssey</td>\n",
              "    </tr>\n",
              "    <tr>\n",
              "      <th>27</th>\n",
              "      <td>2</td>\n",
              "      <td>Trois couleurs : Rouge</td>\n",
              "    </tr>\n",
              "    <tr>\n",
              "      <th>28</th>\n",
              "      <td>2</td>\n",
              "      <td>Der Himmel über Berlin</td>\n",
              "    </tr>\n",
              "    <tr>\n",
              "      <th>...</th>\n",
              "      <td>...</td>\n",
              "      <td>...</td>\n",
              "    </tr>\n",
              "    <tr>\n",
              "      <th>99983</th>\n",
              "      <td>671</td>\n",
              "      <td>Boogie Nights</td>\n",
              "    </tr>\n",
              "    <tr>\n",
              "      <th>99992</th>\n",
              "      <td>671</td>\n",
              "      <td>Ober</td>\n",
              "    </tr>\n",
              "    <tr>\n",
              "      <th>99993</th>\n",
              "      <td>671</td>\n",
              "      <td>A Bridge Too Far</td>\n",
              "    </tr>\n",
              "    <tr>\n",
              "      <th>99996</th>\n",
              "      <td>671</td>\n",
              "      <td>Der letzte Mann</td>\n",
              "    </tr>\n",
              "    <tr>\n",
              "      <th>99997</th>\n",
              "      <td>671</td>\n",
              "      <td>Miffo</td>\n",
              "    </tr>\n",
              "  </tbody>\n",
              "</table>\n",
              "<p>37452 rows × 2 columns</p>\n",
              "</div>"
            ],
            "text/plain": [
              "       userId          original_title\n",
              "13          1            American Pie\n",
              "21          2                The Dark\n",
              "26          2   2001: A Space Odyssey\n",
              "27          2  Trois couleurs : Rouge\n",
              "28          2  Der Himmel über Berlin\n",
              "...       ...                     ...\n",
              "99983     671           Boogie Nights\n",
              "99992     671                    Ober\n",
              "99993     671        A Bridge Too Far\n",
              "99996     671         Der letzte Mann\n",
              "99997     671                   Miffo\n",
              "\n",
              "[37452 rows x 2 columns]"
            ]
          },
          "metadata": {
            "tags": []
          },
          "execution_count": 265
        }
      ]
    },
    {
      "cell_type": "code",
      "metadata": {
        "id": "yzNw4tKvg9UR",
        "colab_type": "code",
        "colab": {
          "base_uri": "https://localhost:8080/",
          "height": 170
        },
        "outputId": "4652085a-abef-4e51-ac5b-999515fcbdb1"
      },
      "source": [
        "movie_df.info()"
      ],
      "execution_count": 266,
      "outputs": [
        {
          "output_type": "stream",
          "text": [
            "<class 'pandas.core.frame.DataFrame'>\n",
            "Int64Index: 37452 entries, 13 to 99997\n",
            "Data columns (total 2 columns):\n",
            " #   Column          Non-Null Count  Dtype \n",
            "---  ------          --------------  ----- \n",
            " 0   userId          37452 non-null  int64 \n",
            " 1   original_title  37452 non-null  object\n",
            "dtypes: int64(1), object(1)\n",
            "memory usage: 877.8+ KB\n"
          ],
          "name": "stdout"
        }
      ]
    },
    {
      "cell_type": "markdown",
      "metadata": {
        "id": "ylwdZUGmhPde",
        "colab_type": "text"
      },
      "source": [
        "Create list-of-list input for Apriori  "
      ]
    },
    {
      "cell_type": "code",
      "metadata": {
        "id": "xta76FvnhO6v",
        "colab_type": "code",
        "colab": {}
      },
      "source": [
        "users = [movie_df['userId'].min()]\n",
        "basket = []\n",
        "watch_lists = []\n",
        "\n",
        "for i in range(len(movie_df)):\n",
        "  user_id = movie_df.iloc[i,0]\n",
        "  movie = movie_df.iloc[i,1]\n",
        "\n",
        "  if user_id in users :\n",
        "    # put this user' movie into her basket\n",
        "    basket.append(movie)\n",
        "  else :\n",
        "    \n",
        "    # I will choose only the user who watch the movie I'm interested in (movie_title)\n",
        "    #if movie_title in basket :\n",
        "      # put the former user's basket into watch_lists\n",
        "    watch_lists.append(basket)\n",
        "    \n",
        "    # empty basket\n",
        "    basket = []\n",
        "\n",
        "    # add new user_id into users\n",
        "    users.append(user_id)\n",
        "    # put this new user's movie into basket\n",
        "    basket.append(movie)\n",
        "\n",
        "#if movie_title in basket :\n",
        "watch_lists.append(basket)\n"
      ],
      "execution_count": 0,
      "outputs": []
    },
    {
      "cell_type": "code",
      "metadata": {
        "id": "GAU3gEnBjbG7",
        "colab_type": "code",
        "colab": {
          "base_uri": "https://localhost:8080/",
          "height": 34
        },
        "outputId": "7a7d0342-5f67-40c9-a9cc-61a232189fe7"
      },
      "source": [
        "len(watch_lists)"
      ],
      "execution_count": 268,
      "outputs": [
        {
          "output_type": "execute_result",
          "data": {
            "text/plain": [
              "671"
            ]
          },
          "metadata": {
            "tags": []
          },
          "execution_count": 268
        }
      ]
    },
    {
      "cell_type": "code",
      "metadata": {
        "id": "os4nOoIvm_mQ",
        "colab_type": "code",
        "colab": {
          "base_uri": "https://localhost:8080/",
          "height": 952
        },
        "outputId": "dcdb60aa-a9e2-4f05-cbb9-8d446b3b219f"
      },
      "source": [
        "watch_lists[:2]"
      ],
      "execution_count": 269,
      "outputs": [
        {
          "output_type": "execute_result",
          "data": {
            "text/plain": [
              "[['American Pie'],\n",
              " ['The Dark',\n",
              "  '2001: A Space Odyssey',\n",
              "  'Trois couleurs : Rouge',\n",
              "  'Der Himmel über Berlin',\n",
              "  '48 Hrs.',\n",
              "  'Lost in Translation',\n",
              "  \"Ocean's Eleven\",\n",
              "  'Back to the Future Part II',\n",
              "  'Star Trek IV: The Voyage Home',\n",
              "  'A Clockwork Orange',\n",
              "  'Lucky Number Slevin',\n",
              "  'Berlin: Die Sinfonie der Grosstadt',\n",
              "  'Czlowiek z zelaza',\n",
              "  'Stand by Me',\n",
              "  'Pocketful of Miracles',\n",
              "  'Live and Let Die',\n",
              "  'Cat on a Hot Tin Roof',\n",
              "  'Lili Marleen',\n",
              "  'Le Mépris',\n",
              "  'Batman Begins',\n",
              "  'Das weisse Rauschen',\n",
              "  \"Dave Chappelle's Block Party\",\n",
              "  'Terminator 3: Rise of the Machines',\n",
              "  'La science des rêves',\n",
              "  'Catwoman',\n",
              "  'Night on Earth',\n",
              "  'Crustacés et coquillages',\n",
              "  'The Devil Wears Prada',\n",
              "  'Batman Returns',\n",
              "  'A Nightmare on Elm Street',\n",
              "  'Sommer vorm Balkon',\n",
              "  'Romeo + Juliet',\n",
              "  'Sissi',\n",
              "  'My Own Private Idaho',\n",
              "  'Monsoon Wedding',\n",
              "  'The Green Mile',\n",
              "  'Reservoir Dogs',\n",
              "  'Love Actually',\n",
              "  'Notting Hill',\n",
              "  'Once Were Warriors',\n",
              "  'Je ne suis pas là pour être aimé',\n",
              "  'Psycho',\n",
              "  'Fight Club',\n",
              "  'The Poseidon Adventure',\n",
              "  'Pane e Tulipani',\n",
              "  'Monsters, Inc.',\n",
              "  'Wag the Dog',\n",
              "  'Big Fish',\n",
              "  'Silent Hill',\n",
              "  'The Hours',\n",
              "  'The Conversation',\n",
              "  'Солярис',\n",
              "  'The Last Samurai',\n",
              "  'Die Ehe der Maria Braun']]"
            ]
          },
          "metadata": {
            "tags": []
          },
          "execution_count": 269
        }
      ]
    },
    {
      "cell_type": "markdown",
      "metadata": {
        "id": "8jDUDgn9nKXi",
        "colab_type": "text"
      },
      "source": [
        "# Priori model"
      ]
    },
    {
      "cell_type": "code",
      "metadata": {
        "id": "_LgvjVW-nYia",
        "colab_type": "code",
        "colab": {
          "base_uri": "https://localhost:8080/",
          "height": 34
        },
        "outputId": "dab7bcd5-ea92-40a9-a7a8-235677ea35d6"
      },
      "source": [
        "! pip install apyori"
      ],
      "execution_count": 270,
      "outputs": [
        {
          "output_type": "stream",
          "text": [
            "Requirement already satisfied: apyori in /usr/local/lib/python3.6/dist-packages (1.1.2)\n"
          ],
          "name": "stdout"
        }
      ]
    },
    {
      "cell_type": "code",
      "metadata": {
        "id": "nKBFmIVInbfH",
        "colab_type": "code",
        "colab": {}
      },
      "source": [
        "from apyori import apriori\n",
        "\n",
        "rules = apriori(watch_lists, min_support = 0.1, min_confidence = 0.5 ,min_lift = 3, max_length =2)"
      ],
      "execution_count": 0,
      "outputs": []
    },
    {
      "cell_type": "markdown",
      "metadata": {
        "id": "xWAogdBjn7Rz",
        "colab_type": "text"
      },
      "source": [
        "# Result"
      ]
    },
    {
      "cell_type": "code",
      "metadata": {
        "id": "kwf9xc6VxlHQ",
        "colab_type": "code",
        "colab": {}
      },
      "source": [
        "result = list(rules)"
      ],
      "execution_count": 0,
      "outputs": []
    },
    {
      "cell_type": "code",
      "metadata": {
        "id": "Xy9U-i3-zBya",
        "colab_type": "code",
        "colab": {
          "base_uri": "https://localhost:8080/",
          "height": 34
        },
        "outputId": "de0b3c09-be12-400b-81e7-0f93e592d7a6"
      },
      "source": [
        "len(result)"
      ],
      "execution_count": 276,
      "outputs": [
        {
          "output_type": "execute_result",
          "data": {
            "text/plain": [
              "16"
            ]
          },
          "metadata": {
            "tags": []
          },
          "execution_count": 276
        }
      ]
    },
    {
      "cell_type": "code",
      "metadata": {
        "id": "8CAZvGYr1QfZ",
        "colab_type": "code",
        "colab": {
          "base_uri": "https://localhost:8080/",
          "height": 54
        },
        "outputId": "ebd3ce46-978c-40b3-86e2-7566859c371b"
      },
      "source": [
        "result[1]"
      ],
      "execution_count": 284,
      "outputs": [
        {
          "output_type": "execute_result",
          "data": {
            "text/plain": [
              "RelationRecord(items=frozenset({'Bad Boys II', 'And Then There Were None'}), support=0.11773472429210134, ordered_statistics=[OrderedStatistic(items_base=frozenset({'And Then There Were None'}), items_add=frozenset({'Bad Boys II'}), confidence=0.6422764227642276, lift=3.6522667769050567), OrderedStatistic(items_base=frozenset({'Bad Boys II'}), items_add=frozenset({'And Then There Were None'}), confidence=0.6694915254237288, lift=3.652266776905057)])"
            ]
          },
          "metadata": {
            "tags": []
          },
          "execution_count": 284
        }
      ]
    },
    {
      "cell_type": "code",
      "metadata": {
        "id": "EZ_-NV2E-hES",
        "colab_type": "code",
        "colab": {}
      },
      "source": [
        "results1 = []\n",
        "for i in range(len(result)):\n",
        "  item1 = list(result[i].ordered_statistics[0][0])[0]\n",
        "  item2 = list(result[i].ordered_statistics[0][1])[0]\n",
        "  support = result[i].support\n",
        "  confidence = result[i].ordered_statistics[0][2]\n",
        "  lift = result[i].ordered_statistics[0][3]\n",
        "\n",
        "  row = (item1, item2, support, confidence, lift)\n",
        "  results1.append(row)\n",
        "\n",
        "labels = ['movieA','movieB','support','confidence','lift']\n",
        "result_df = pd.DataFrame(results1, columns=labels)"
      ],
      "execution_count": 0,
      "outputs": []
    },
    {
      "cell_type": "code",
      "metadata": {
        "id": "c7S9C1mdYTNi",
        "colab_type": "code",
        "colab": {
          "base_uri": "https://localhost:8080/",
          "height": 545
        },
        "outputId": "6bf789f6-4d95-4197-a855-fcb1ab04953a"
      },
      "source": [
        "result_df.sort_values('lift', ascending=False)"
      ],
      "execution_count": 289,
      "outputs": [
        {
          "output_type": "execute_result",
          "data": {
            "text/html": [
              "<div>\n",
              "<style scoped>\n",
              "    .dataframe tbody tr th:only-of-type {\n",
              "        vertical-align: middle;\n",
              "    }\n",
              "\n",
              "    .dataframe tbody tr th {\n",
              "        vertical-align: top;\n",
              "    }\n",
              "\n",
              "    .dataframe thead th {\n",
              "        text-align: right;\n",
              "    }\n",
              "</style>\n",
              "<table border=\"1\" class=\"dataframe\">\n",
              "  <thead>\n",
              "    <tr style=\"text-align: right;\">\n",
              "      <th></th>\n",
              "      <th>movieA</th>\n",
              "      <th>movieB</th>\n",
              "      <th>support</th>\n",
              "      <th>confidence</th>\n",
              "      <th>lift</th>\n",
              "    </tr>\n",
              "  </thead>\n",
              "  <tbody>\n",
              "    <tr>\n",
              "      <th>5</th>\n",
              "      <td>Big Fish</td>\n",
              "      <td>Psycho</td>\n",
              "      <td>0.107303</td>\n",
              "      <td>0.727273</td>\n",
              "      <td>4.518519</td>\n",
              "    </tr>\n",
              "    <tr>\n",
              "      <th>3</th>\n",
              "      <td>Bang Boom Bang - Ein todsicheres Ding</td>\n",
              "      <td>Syriana</td>\n",
              "      <td>0.111773</td>\n",
              "      <td>0.688073</td>\n",
              "      <td>3.946130</td>\n",
              "    </tr>\n",
              "    <tr>\n",
              "      <th>1</th>\n",
              "      <td>And Then There Were None</td>\n",
              "      <td>Bad Boys II</td>\n",
              "      <td>0.117735</td>\n",
              "      <td>0.642276</td>\n",
              "      <td>3.652267</td>\n",
              "    </tr>\n",
              "    <tr>\n",
              "      <th>10</th>\n",
              "      <td>Knallhart</td>\n",
              "      <td>Rain Man</td>\n",
              "      <td>0.105812</td>\n",
              "      <td>0.887500</td>\n",
              "      <td>3.544717</td>\n",
              "    </tr>\n",
              "    <tr>\n",
              "      <th>14</th>\n",
              "      <td>Psycho</td>\n",
              "      <td>Reservoir Dogs</td>\n",
              "      <td>0.107303</td>\n",
              "      <td>0.666667</td>\n",
              "      <td>3.441026</td>\n",
              "    </tr>\n",
              "    <tr>\n",
              "      <th>2</th>\n",
              "      <td>Back to the Future Part II</td>\n",
              "      <td>Crustacés et coquillages</td>\n",
              "      <td>0.105812</td>\n",
              "      <td>0.563492</td>\n",
              "      <td>3.437302</td>\n",
              "    </tr>\n",
              "    <tr>\n",
              "      <th>13</th>\n",
              "      <td>Point Break</td>\n",
              "      <td>The Talented Mr. Ripley</td>\n",
              "      <td>0.116244</td>\n",
              "      <td>0.634146</td>\n",
              "      <td>3.350490</td>\n",
              "    </tr>\n",
              "    <tr>\n",
              "      <th>11</th>\n",
              "      <td>Lost in Translation</td>\n",
              "      <td>Rain Man</td>\n",
              "      <td>0.102832</td>\n",
              "      <td>0.821429</td>\n",
              "      <td>3.280825</td>\n",
              "    </tr>\n",
              "    <tr>\n",
              "      <th>6</th>\n",
              "      <td>Big Fish</td>\n",
              "      <td>Titanic</td>\n",
              "      <td>0.110283</td>\n",
              "      <td>0.747475</td>\n",
              "      <td>3.278141</td>\n",
              "    </tr>\n",
              "    <tr>\n",
              "      <th>12</th>\n",
              "      <td>Lost in Translation</td>\n",
              "      <td>The Conversation</td>\n",
              "      <td>0.105812</td>\n",
              "      <td>0.845238</td>\n",
              "      <td>3.259510</td>\n",
              "    </tr>\n",
              "    <tr>\n",
              "      <th>7</th>\n",
              "      <td>Crustacés et coquillages</td>\n",
              "      <td>Rain Man</td>\n",
              "      <td>0.132638</td>\n",
              "      <td>0.809091</td>\n",
              "      <td>3.231548</td>\n",
              "    </tr>\n",
              "    <tr>\n",
              "      <th>15</th>\n",
              "      <td>Psycho</td>\n",
              "      <td>Titanic</td>\n",
              "      <td>0.116244</td>\n",
              "      <td>0.722222</td>\n",
              "      <td>3.167393</td>\n",
              "    </tr>\n",
              "    <tr>\n",
              "      <th>9</th>\n",
              "      <td>Murder She Said</td>\n",
              "      <td>Dawn of the Dead</td>\n",
              "      <td>0.101341</td>\n",
              "      <td>0.680000</td>\n",
              "      <td>3.146759</td>\n",
              "    </tr>\n",
              "    <tr>\n",
              "      <th>8</th>\n",
              "      <td>Dave Chappelle's Block Party</td>\n",
              "      <td>Rain Man</td>\n",
              "      <td>0.108793</td>\n",
              "      <td>0.784946</td>\n",
              "      <td>3.135113</td>\n",
              "    </tr>\n",
              "    <tr>\n",
              "      <th>0</th>\n",
              "      <td>Romeo + Juliet</td>\n",
              "      <td>A Nightmare on Elm Street</td>\n",
              "      <td>0.104322</td>\n",
              "      <td>0.714286</td>\n",
              "      <td>3.072344</td>\n",
              "    </tr>\n",
              "    <tr>\n",
              "      <th>4</th>\n",
              "      <td>Beetlejuice</td>\n",
              "      <td>License to Wed</td>\n",
              "      <td>0.113264</td>\n",
              "      <td>0.853933</td>\n",
              "      <td>3.064111</td>\n",
              "    </tr>\n",
              "  </tbody>\n",
              "</table>\n",
              "</div>"
            ],
            "text/plain": [
              "                                   movieA  ...      lift\n",
              "5                                Big Fish  ...  4.518519\n",
              "3   Bang Boom Bang - Ein todsicheres Ding  ...  3.946130\n",
              "1                And Then There Were None  ...  3.652267\n",
              "10                              Knallhart  ...  3.544717\n",
              "14                                 Psycho  ...  3.441026\n",
              "2              Back to the Future Part II  ...  3.437302\n",
              "13                            Point Break  ...  3.350490\n",
              "11                    Lost in Translation  ...  3.280825\n",
              "6                                Big Fish  ...  3.278141\n",
              "12                    Lost in Translation  ...  3.259510\n",
              "7                Crustacés et coquillages  ...  3.231548\n",
              "15                                 Psycho  ...  3.167393\n",
              "9                         Murder She Said  ...  3.146759\n",
              "8            Dave Chappelle's Block Party  ...  3.135113\n",
              "0                          Romeo + Juliet  ...  3.072344\n",
              "4                             Beetlejuice  ...  3.064111\n",
              "\n",
              "[16 rows x 5 columns]"
            ]
          },
          "metadata": {
            "tags": []
          },
          "execution_count": 289
        }
      ]
    },
    {
      "cell_type": "markdown",
      "metadata": {
        "id": "PdIwfVQFYwAm",
        "colab_type": "text"
      },
      "source": [
        "Let's discuss about the result.  \n",
        "\n",
        "\n",
        "\n",
        "*   Rule 1 : Big Fish & Psycho  \n",
        "    - 10.73% of the users watch both of these movies  \n",
        "    - the confidence that the users who watch Big Fish will watch Psycho is 72.73%  \n",
        "    - the likelihood that the users will watch Big Fish and Psycho together is 4.52 times more than the likelihood that the users watch only just Psycho.  \n"
      ]
    }
  ]
}