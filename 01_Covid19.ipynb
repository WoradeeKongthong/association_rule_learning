{
  "nbformat": 4,
  "nbformat_minor": 0,
  "metadata": {
    "colab": {
      "name": "01_Covid19.ipynb",
      "provenance": [],
      "authorship_tag": "ABX9TyO/ckY97KYabGM1lyUBpI4p",
      "include_colab_link": true
    },
    "kernelspec": {
      "name": "python3",
      "display_name": "Python 3"
    }
  },
  "cells": [
    {
      "cell_type": "markdown",
      "metadata": {
        "id": "view-in-github",
        "colab_type": "text"
      },
      "source": [
        "<a href=\"https://colab.research.google.com/github/WoradeeKongthong/association_rule_learning/blob/master/01_Covid19.ipynb\" target=\"_parent\"><img src=\"https://colab.research.google.com/assets/colab-badge.svg\" alt=\"Open In Colab\"/></a>"
      ]
    },
    {
      "cell_type": "markdown",
      "metadata": {
        "id": "IjMRs1VgDd-n",
        "colab_type": "text"
      },
      "source": [
        "# Association Rule Learning\n",
        "\n",
        "Simple learning of Covid-19 symptoms that occur together.  \n",
        "  \n",
        "Note :  \n",
        "The dataset I use in this learning is part of https://www.kaggle.com/bitsofishan/covid19-patient-symptoms ' dataset.  \n",
        "I choose only the record that the corona result is 1."
      ]
    },
    {
      "cell_type": "code",
      "metadata": {
        "id": "bpA4aqv7AuiM",
        "colab_type": "code",
        "colab": {}
      },
      "source": [
        "#libraries\n",
        "import numpy as np\n",
        "import pandas as pd\n",
        "import matplotlib.pyplot as plt\n",
        "import seaborn as sns\n",
        "\n",
        "pd.set_option(\"display.max_colwidth\", 10000)"
      ],
      "execution_count": 0,
      "outputs": []
    },
    {
      "cell_type": "code",
      "metadata": {
        "id": "Urox1yvqBKrw",
        "colab_type": "code",
        "colab": {}
      },
      "source": [
        "df = pd.read_csv('https://raw.githubusercontent.com/WoradeeKongthong/association_rule_learning/master/corona_symptoms.csv',usecols=[i for i in range(1,16) if ((i!=6)&(i!=11))])"
      ],
      "execution_count": 0,
      "outputs": []
    },
    {
      "cell_type": "markdown",
      "metadata": {
        "id": "GqN-5bfSCe3k",
        "colab_type": "text"
      },
      "source": [
        "# Dataset : covid19 symptoms"
      ]
    },
    {
      "cell_type": "code",
      "metadata": {
        "id": "ywkqJ9pnc4xq",
        "colab_type": "code",
        "outputId": "c25c2910-86e0-47ec-da77-8f19ce54629d",
        "colab": {
          "base_uri": "https://localhost:8080/",
          "height": 453
        }
      },
      "source": [
        "df"
      ],
      "execution_count": 5,
      "outputs": [
        {
          "output_type": "execute_result",
          "data": {
            "text/html": [
              "<div>\n",
              "<style scoped>\n",
              "    .dataframe tbody tr th:only-of-type {\n",
              "        vertical-align: middle;\n",
              "    }\n",
              "\n",
              "    .dataframe tbody tr th {\n",
              "        vertical-align: top;\n",
              "    }\n",
              "\n",
              "    .dataframe thead th {\n",
              "        text-align: right;\n",
              "    }\n",
              "</style>\n",
              "<table border=\"1\" class=\"dataframe\">\n",
              "  <thead>\n",
              "    <tr style=\"text-align: right;\">\n",
              "      <th></th>\n",
              "      <th>sour throat</th>\n",
              "      <th>weakness</th>\n",
              "      <th>breathing problem</th>\n",
              "      <th>drowsiness</th>\n",
              "      <th>pain in chest</th>\n",
              "      <th>diabetes</th>\n",
              "      <th>heart disease</th>\n",
              "      <th>lung disease</th>\n",
              "      <th>stroke or reduced immunity</th>\n",
              "      <th>high blood pressue</th>\n",
              "      <th>kidney disease</th>\n",
              "      <th>change in appetide</th>\n",
              "      <th>Loss of sense of smell</th>\n",
              "    </tr>\n",
              "  </thead>\n",
              "  <tbody>\n",
              "    <tr>\n",
              "      <th>0</th>\n",
              "      <td>1</td>\n",
              "      <td>1</td>\n",
              "      <td>1</td>\n",
              "      <td>1</td>\n",
              "      <td>1</td>\n",
              "      <td>0</td>\n",
              "      <td>0</td>\n",
              "      <td>0</td>\n",
              "      <td>0</td>\n",
              "      <td>0</td>\n",
              "      <td>0</td>\n",
              "      <td>1</td>\n",
              "      <td>0</td>\n",
              "    </tr>\n",
              "    <tr>\n",
              "      <th>1</th>\n",
              "      <td>0</td>\n",
              "      <td>1</td>\n",
              "      <td>0</td>\n",
              "      <td>0</td>\n",
              "      <td>0</td>\n",
              "      <td>0</td>\n",
              "      <td>0</td>\n",
              "      <td>0</td>\n",
              "      <td>0</td>\n",
              "      <td>0</td>\n",
              "      <td>0</td>\n",
              "      <td>1</td>\n",
              "      <td>0</td>\n",
              "    </tr>\n",
              "    <tr>\n",
              "      <th>2</th>\n",
              "      <td>1</td>\n",
              "      <td>0</td>\n",
              "      <td>0</td>\n",
              "      <td>1</td>\n",
              "      <td>0</td>\n",
              "      <td>1</td>\n",
              "      <td>1</td>\n",
              "      <td>0</td>\n",
              "      <td>1</td>\n",
              "      <td>0</td>\n",
              "      <td>1</td>\n",
              "      <td>0</td>\n",
              "      <td>0</td>\n",
              "    </tr>\n",
              "    <tr>\n",
              "      <th>3</th>\n",
              "      <td>1</td>\n",
              "      <td>1</td>\n",
              "      <td>0</td>\n",
              "      <td>0</td>\n",
              "      <td>0</td>\n",
              "      <td>0</td>\n",
              "      <td>0</td>\n",
              "      <td>0</td>\n",
              "      <td>0</td>\n",
              "      <td>0</td>\n",
              "      <td>0</td>\n",
              "      <td>1</td>\n",
              "      <td>0</td>\n",
              "    </tr>\n",
              "    <tr>\n",
              "      <th>4</th>\n",
              "      <td>0</td>\n",
              "      <td>1</td>\n",
              "      <td>0</td>\n",
              "      <td>0</td>\n",
              "      <td>1</td>\n",
              "      <td>0</td>\n",
              "      <td>0</td>\n",
              "      <td>0</td>\n",
              "      <td>0</td>\n",
              "      <td>0</td>\n",
              "      <td>1</td>\n",
              "      <td>1</td>\n",
              "      <td>0</td>\n",
              "    </tr>\n",
              "    <tr>\n",
              "      <th>...</th>\n",
              "      <td>...</td>\n",
              "      <td>...</td>\n",
              "      <td>...</td>\n",
              "      <td>...</td>\n",
              "      <td>...</td>\n",
              "      <td>...</td>\n",
              "      <td>...</td>\n",
              "      <td>...</td>\n",
              "      <td>...</td>\n",
              "      <td>...</td>\n",
              "      <td>...</td>\n",
              "      <td>...</td>\n",
              "      <td>...</td>\n",
              "    </tr>\n",
              "    <tr>\n",
              "      <th>64</th>\n",
              "      <td>0</td>\n",
              "      <td>0</td>\n",
              "      <td>0</td>\n",
              "      <td>1</td>\n",
              "      <td>0</td>\n",
              "      <td>0</td>\n",
              "      <td>0</td>\n",
              "      <td>0</td>\n",
              "      <td>0</td>\n",
              "      <td>0</td>\n",
              "      <td>1</td>\n",
              "      <td>0</td>\n",
              "      <td>0</td>\n",
              "    </tr>\n",
              "    <tr>\n",
              "      <th>65</th>\n",
              "      <td>1</td>\n",
              "      <td>1</td>\n",
              "      <td>1</td>\n",
              "      <td>1</td>\n",
              "      <td>1</td>\n",
              "      <td>1</td>\n",
              "      <td>0</td>\n",
              "      <td>0</td>\n",
              "      <td>1</td>\n",
              "      <td>0</td>\n",
              "      <td>0</td>\n",
              "      <td>1</td>\n",
              "      <td>1</td>\n",
              "    </tr>\n",
              "    <tr>\n",
              "      <th>66</th>\n",
              "      <td>0</td>\n",
              "      <td>0</td>\n",
              "      <td>0</td>\n",
              "      <td>1</td>\n",
              "      <td>1</td>\n",
              "      <td>1</td>\n",
              "      <td>0</td>\n",
              "      <td>0</td>\n",
              "      <td>0</td>\n",
              "      <td>0</td>\n",
              "      <td>0</td>\n",
              "      <td>1</td>\n",
              "      <td>1</td>\n",
              "    </tr>\n",
              "    <tr>\n",
              "      <th>67</th>\n",
              "      <td>0</td>\n",
              "      <td>0</td>\n",
              "      <td>0</td>\n",
              "      <td>1</td>\n",
              "      <td>1</td>\n",
              "      <td>1</td>\n",
              "      <td>0</td>\n",
              "      <td>0</td>\n",
              "      <td>0</td>\n",
              "      <td>1</td>\n",
              "      <td>0</td>\n",
              "      <td>1</td>\n",
              "      <td>0</td>\n",
              "    </tr>\n",
              "    <tr>\n",
              "      <th>68</th>\n",
              "      <td>0</td>\n",
              "      <td>0</td>\n",
              "      <td>1</td>\n",
              "      <td>0</td>\n",
              "      <td>0</td>\n",
              "      <td>0</td>\n",
              "      <td>0</td>\n",
              "      <td>0</td>\n",
              "      <td>1</td>\n",
              "      <td>0</td>\n",
              "      <td>0</td>\n",
              "      <td>0</td>\n",
              "      <td>1</td>\n",
              "    </tr>\n",
              "  </tbody>\n",
              "</table>\n",
              "<p>69 rows × 13 columns</p>\n",
              "</div>"
            ],
            "text/plain": [
              "    sour throat  weakness  ...  change in appetide  Loss of sense of smell\n",
              "0             1         1  ...                   1                       0\n",
              "1             0         1  ...                   1                       0\n",
              "2             1         0  ...                   0                       0\n",
              "3             1         1  ...                   1                       0\n",
              "4             0         1  ...                   1                       0\n",
              "..          ...       ...  ...                 ...                     ...\n",
              "64            0         0  ...                   0                       0\n",
              "65            1         1  ...                   1                       1\n",
              "66            0         0  ...                   1                       1\n",
              "67            0         0  ...                   1                       0\n",
              "68            0         0  ...                   0                       1\n",
              "\n",
              "[69 rows x 13 columns]"
            ]
          },
          "metadata": {
            "tags": []
          },
          "execution_count": 5
        }
      ]
    },
    {
      "cell_type": "markdown",
      "metadata": {
        "id": "Vv5WTl6lCrhO",
        "colab_type": "text"
      },
      "source": [
        "# Data Proprocessor\n",
        "\n",
        "input of a priori model is a list of lists of symptoms in each case"
      ]
    },
    {
      "cell_type": "code",
      "metadata": {
        "id": "-d7LIL17gBiv",
        "colab_type": "code",
        "colab": {}
      },
      "source": [
        "symptoms = []\n",
        "for i in range(len(df)):\n",
        "  temp = df.iloc[i,:]\n",
        "  symptoms.append(list(temp[temp==1].index.values))"
      ],
      "execution_count": 0,
      "outputs": []
    },
    {
      "cell_type": "code",
      "metadata": {
        "id": "oSRVCtlUiCmr",
        "colab_type": "code",
        "outputId": "ff2840c5-5036-43d3-aea1-b60604f879da",
        "colab": {
          "base_uri": "https://localhost:8080/",
          "height": 272
        }
      },
      "source": [
        "# example of symptoms list\n",
        "symptoms[:5]"
      ],
      "execution_count": 42,
      "outputs": [
        {
          "output_type": "execute_result",
          "data": {
            "text/plain": [
              "[['sour throat',\n",
              "  'weakness',\n",
              "  'breathing problem',\n",
              "  'drowsiness',\n",
              "  'pain in chest',\n",
              "  'change in appetide'],\n",
              " ['weakness', 'change in appetide'],\n",
              " ['sour throat',\n",
              "  'drowsiness',\n",
              "  'diabetes',\n",
              "  'heart disease',\n",
              "  'stroke or reduced immunity',\n",
              "  'kidney disease'],\n",
              " ['sour throat', 'weakness', 'change in appetide'],\n",
              " ['weakness', 'pain in chest', 'kidney disease', 'change in appetide']]"
            ]
          },
          "metadata": {
            "tags": []
          },
          "execution_count": 42
        }
      ]
    },
    {
      "cell_type": "markdown",
      "metadata": {
        "id": "iPAcOPfT5gSH",
        "colab_type": "text"
      },
      "source": [
        "# Apriori model"
      ]
    },
    {
      "cell_type": "code",
      "metadata": {
        "id": "jkQy-X2kY_Na",
        "colab_type": "code",
        "outputId": "e4ddacbe-3b48-4a0e-dea0-042d07960e85",
        "colab": {
          "base_uri": "https://localhost:8080/",
          "height": 190
        }
      },
      "source": [
        "! pip install apyori"
      ],
      "execution_count": 8,
      "outputs": [
        {
          "output_type": "stream",
          "text": [
            "Collecting apyori\n",
            "  Downloading https://files.pythonhosted.org/packages/5e/62/5ffde5c473ea4b033490617ec5caa80d59804875ad3c3c57c0976533a21a/apyori-1.1.2.tar.gz\n",
            "Building wheels for collected packages: apyori\n",
            "  Building wheel for apyori (setup.py) ... \u001b[?25l\u001b[?25hdone\n",
            "  Created wheel for apyori: filename=apyori-1.1.2-cp36-none-any.whl size=5975 sha256=12c877282f653bd893337f73d5efd36e98e512ad4b2c805d0c46d367877d53bb\n",
            "  Stored in directory: /root/.cache/pip/wheels/5d/92/bb/474bbadbc8c0062b9eb168f69982a0443263f8ab1711a8cad0\n",
            "Successfully built apyori\n",
            "Installing collected packages: apyori\n",
            "Successfully installed apyori-1.1.2\n"
          ],
          "name": "stdout"
        }
      ]
    },
    {
      "cell_type": "code",
      "metadata": {
        "id": "XByXu1a7EHus",
        "colab_type": "code",
        "colab": {}
      },
      "source": [
        "from apyori import apriori\n",
        "rules = apriori(symptoms, min_support=0.0145, min_confidence=0.001, min_lift=1.0001, max_length=2)"
      ],
      "execution_count": 0,
      "outputs": []
    },
    {
      "cell_type": "markdown",
      "metadata": {
        "id": "M16VLhTSJ1To",
        "colab_type": "text"
      },
      "source": [
        "Note  \n",
        "- consider every pair of symptoms, even one that occur in one case  \n",
        "    min_support = 1/69 = 0.0145\n",
        "- let's set the minimum likelihood that the symptom B is occured if symptom A is occur to very low value (0.001) to capture all possibilities\n",
        "- set min_lift = 1.0001 to consider the symptoms that more likely to occur together\n"
      ]
    },
    {
      "cell_type": "markdown",
      "metadata": {
        "id": "q-H5MxuVEvSn",
        "colab_type": "text"
      },
      "source": [
        "# Results of the learning"
      ]
    },
    {
      "cell_type": "code",
      "metadata": {
        "id": "DSVsgR1bz1xg",
        "colab_type": "code",
        "colab": {}
      },
      "source": [
        "results = list(rules)"
      ],
      "execution_count": 0,
      "outputs": []
    },
    {
      "cell_type": "code",
      "metadata": {
        "id": "tyT67IUPGAkw",
        "colab_type": "code",
        "outputId": "8bfc84b8-4096-4997-cad6-f6b0193f8bbc",
        "colab": {
          "base_uri": "https://localhost:8080/",
          "height": 34
        }
      },
      "source": [
        "len(results)"
      ],
      "execution_count": 99,
      "outputs": [
        {
          "output_type": "execute_result",
          "data": {
            "text/plain": [
              "39"
            ]
          },
          "metadata": {
            "tags": []
          },
          "execution_count": 99
        }
      ]
    },
    {
      "cell_type": "code",
      "metadata": {
        "id": "YLCWczYQz9N1",
        "colab_type": "code",
        "colab": {}
      },
      "source": [
        "results1 = []\n",
        "for i in range(len(results)):\n",
        "  items = list(results[i].items)\n",
        "  support = results[i].support\n",
        "  confidence = results[i].ordered_statistics[1][2]\n",
        "  lift = results[i].ordered_statistics[1][3]\n",
        "\n",
        "  row = (items, support, confidence, lift)\n",
        "  results1.append(row)\n",
        "\n",
        "labels = ['rule','support','confidence','lift']\n",
        "result_df = pd.DataFrame(results1, columns=labels)"
      ],
      "execution_count": 0,
      "outputs": []
    },
    {
      "cell_type": "code",
      "metadata": {
        "id": "9ZwqB4HXSkBH",
        "colab_type": "code",
        "outputId": "76b41a75-93b4-437f-9007-afc917a577ba",
        "colab": {
          "base_uri": "https://localhost:8080/",
          "height": 1000
        }
      },
      "source": [
        "result_df.sort_values('support', ascending=False)"
      ],
      "execution_count": 107,
      "outputs": [
        {
          "output_type": "execute_result",
          "data": {
            "text/html": [
              "<div>\n",
              "<style scoped>\n",
              "    .dataframe tbody tr th:only-of-type {\n",
              "        vertical-align: middle;\n",
              "    }\n",
              "\n",
              "    .dataframe tbody tr th {\n",
              "        vertical-align: top;\n",
              "    }\n",
              "\n",
              "    .dataframe thead th {\n",
              "        text-align: right;\n",
              "    }\n",
              "</style>\n",
              "<table border=\"1\" class=\"dataframe\">\n",
              "  <thead>\n",
              "    <tr style=\"text-align: right;\">\n",
              "      <th></th>\n",
              "      <th>rule</th>\n",
              "      <th>support</th>\n",
              "      <th>confidence</th>\n",
              "      <th>lift</th>\n",
              "    </tr>\n",
              "  </thead>\n",
              "  <tbody>\n",
              "    <tr>\n",
              "      <th>25</th>\n",
              "      <td>[sour throat, drowsiness]</td>\n",
              "      <td>0.318841</td>\n",
              "      <td>0.594595</td>\n",
              "      <td>1.139640</td>\n",
              "    </tr>\n",
              "    <tr>\n",
              "      <th>15</th>\n",
              "      <td>[drowsiness, change in appetide]</td>\n",
              "      <td>0.318841</td>\n",
              "      <td>0.611111</td>\n",
              "      <td>1.505952</td>\n",
              "    </tr>\n",
              "    <tr>\n",
              "      <th>37</th>\n",
              "      <td>[sour throat, weakness]</td>\n",
              "      <td>0.275362</td>\n",
              "      <td>0.593750</td>\n",
              "      <td>1.107264</td>\n",
              "    </tr>\n",
              "    <tr>\n",
              "      <th>5</th>\n",
              "      <td>[sour throat, Loss of sense of smell]</td>\n",
              "      <td>0.275362</td>\n",
              "      <td>0.513514</td>\n",
              "      <td>1.181081</td>\n",
              "    </tr>\n",
              "    <tr>\n",
              "      <th>11</th>\n",
              "      <td>[breathing problem, pain in chest]</td>\n",
              "      <td>0.260870</td>\n",
              "      <td>0.620690</td>\n",
              "      <td>1.381535</td>\n",
              "    </tr>\n",
              "    <tr>\n",
              "      <th>0</th>\n",
              "      <td>[breathing problem, Loss of sense of smell]</td>\n",
              "      <td>0.246377</td>\n",
              "      <td>0.548387</td>\n",
              "      <td>1.261290</td>\n",
              "    </tr>\n",
              "    <tr>\n",
              "      <th>7</th>\n",
              "      <td>[weakness, Loss of sense of smell]</td>\n",
              "      <td>0.246377</td>\n",
              "      <td>0.531250</td>\n",
              "      <td>1.221875</td>\n",
              "    </tr>\n",
              "    <tr>\n",
              "      <th>12</th>\n",
              "      <td>[breathing problem, sour throat]</td>\n",
              "      <td>0.246377</td>\n",
              "      <td>0.459459</td>\n",
              "      <td>1.022668</td>\n",
              "    </tr>\n",
              "    <tr>\n",
              "      <th>13</th>\n",
              "      <td>[breathing problem, weakness]</td>\n",
              "      <td>0.246377</td>\n",
              "      <td>0.531250</td>\n",
              "      <td>1.182460</td>\n",
              "    </tr>\n",
              "    <tr>\n",
              "      <th>35</th>\n",
              "      <td>[sour throat, pain in chest]</td>\n",
              "      <td>0.231884</td>\n",
              "      <td>0.432432</td>\n",
              "      <td>1.028891</td>\n",
              "    </tr>\n",
              "    <tr>\n",
              "      <th>16</th>\n",
              "      <td>[pain in chest, change in appetide]</td>\n",
              "      <td>0.217391</td>\n",
              "      <td>0.517241</td>\n",
              "      <td>1.274631</td>\n",
              "    </tr>\n",
              "    <tr>\n",
              "      <th>4</th>\n",
              "      <td>[pain in chest, Loss of sense of smell]</td>\n",
              "      <td>0.217391</td>\n",
              "      <td>0.517241</td>\n",
              "      <td>1.189655</td>\n",
              "    </tr>\n",
              "    <tr>\n",
              "      <th>10</th>\n",
              "      <td>[breathing problem, high blood pressue]</td>\n",
              "      <td>0.217391</td>\n",
              "      <td>0.750000</td>\n",
              "      <td>1.669355</td>\n",
              "    </tr>\n",
              "    <tr>\n",
              "      <th>17</th>\n",
              "      <td>[weakness, change in appetide]</td>\n",
              "      <td>0.202899</td>\n",
              "      <td>0.437500</td>\n",
              "      <td>1.078125</td>\n",
              "    </tr>\n",
              "    <tr>\n",
              "      <th>30</th>\n",
              "      <td>[pain in chest, high blood pressue]</td>\n",
              "      <td>0.188406</td>\n",
              "      <td>0.448276</td>\n",
              "      <td>1.546552</td>\n",
              "    </tr>\n",
              "    <tr>\n",
              "      <th>1</th>\n",
              "      <td>[change in appetide, Loss of sense of smell]</td>\n",
              "      <td>0.188406</td>\n",
              "      <td>0.464286</td>\n",
              "      <td>1.067857</td>\n",
              "    </tr>\n",
              "    <tr>\n",
              "      <th>19</th>\n",
              "      <td>[diabetes, high blood pressue]</td>\n",
              "      <td>0.173913</td>\n",
              "      <td>0.600000</td>\n",
              "      <td>2.435294</td>\n",
              "    </tr>\n",
              "    <tr>\n",
              "      <th>18</th>\n",
              "      <td>[diabetes, drowsiness]</td>\n",
              "      <td>0.144928</td>\n",
              "      <td>0.277778</td>\n",
              "      <td>1.127451</td>\n",
              "    </tr>\n",
              "    <tr>\n",
              "      <th>22</th>\n",
              "      <td>[diabetes, pain in chest]</td>\n",
              "      <td>0.144928</td>\n",
              "      <td>0.344828</td>\n",
              "      <td>1.399594</td>\n",
              "    </tr>\n",
              "    <tr>\n",
              "      <th>8</th>\n",
              "      <td>[diabetes, breathing problem]</td>\n",
              "      <td>0.130435</td>\n",
              "      <td>0.529412</td>\n",
              "      <td>1.178368</td>\n",
              "    </tr>\n",
              "    <tr>\n",
              "      <th>2</th>\n",
              "      <td>[high blood pressue, Loss of sense of smell]</td>\n",
              "      <td>0.130435</td>\n",
              "      <td>0.450000</td>\n",
              "      <td>1.035000</td>\n",
              "    </tr>\n",
              "    <tr>\n",
              "      <th>26</th>\n",
              "      <td>[stroke or reduced immunity, drowsiness]</td>\n",
              "      <td>0.130435</td>\n",
              "      <td>0.692308</td>\n",
              "      <td>1.326923</td>\n",
              "    </tr>\n",
              "    <tr>\n",
              "      <th>14</th>\n",
              "      <td>[diabetes, change in appetide]</td>\n",
              "      <td>0.101449</td>\n",
              "      <td>0.411765</td>\n",
              "      <td>1.014706</td>\n",
              "    </tr>\n",
              "    <tr>\n",
              "      <th>36</th>\n",
              "      <td>[stroke or reduced immunity, sour throat]</td>\n",
              "      <td>0.101449</td>\n",
              "      <td>0.538462</td>\n",
              "      <td>1.004158</td>\n",
              "    </tr>\n",
              "    <tr>\n",
              "      <th>38</th>\n",
              "      <td>[stroke or reduced immunity, weakness]</td>\n",
              "      <td>0.101449</td>\n",
              "      <td>0.218750</td>\n",
              "      <td>1.161058</td>\n",
              "    </tr>\n",
              "    <tr>\n",
              "      <th>23</th>\n",
              "      <td>[diabetes, stroke or reduced immunity]</td>\n",
              "      <td>0.086957</td>\n",
              "      <td>0.461538</td>\n",
              "      <td>1.873303</td>\n",
              "    </tr>\n",
              "    <tr>\n",
              "      <th>6</th>\n",
              "      <td>[stroke or reduced immunity, Loss of sense of ...</td>\n",
              "      <td>0.086957</td>\n",
              "      <td>0.461538</td>\n",
              "      <td>1.061538</td>\n",
              "    </tr>\n",
              "    <tr>\n",
              "      <th>34</th>\n",
              "      <td>[weakness, lung disease]</td>\n",
              "      <td>0.086957</td>\n",
              "      <td>0.187500</td>\n",
              "      <td>1.437500</td>\n",
              "    </tr>\n",
              "    <tr>\n",
              "      <th>24</th>\n",
              "      <td>[kidney disease, drowsiness]</td>\n",
              "      <td>0.072464</td>\n",
              "      <td>0.714286</td>\n",
              "      <td>1.369048</td>\n",
              "    </tr>\n",
              "    <tr>\n",
              "      <th>32</th>\n",
              "      <td>[sour throat, lung disease]</td>\n",
              "      <td>0.072464</td>\n",
              "      <td>0.135135</td>\n",
              "      <td>1.036036</td>\n",
              "    </tr>\n",
              "    <tr>\n",
              "      <th>3</th>\n",
              "      <td>[lung disease, Loss of sense of smell]</td>\n",
              "      <td>0.072464</td>\n",
              "      <td>0.555556</td>\n",
              "      <td>1.277778</td>\n",
              "    </tr>\n",
              "    <tr>\n",
              "      <th>33</th>\n",
              "      <td>[stroke or reduced immunity, lung disease]</td>\n",
              "      <td>0.057971</td>\n",
              "      <td>0.307692</td>\n",
              "      <td>2.358974</td>\n",
              "    </tr>\n",
              "    <tr>\n",
              "      <th>20</th>\n",
              "      <td>[diabetes, kidney disease]</td>\n",
              "      <td>0.057971</td>\n",
              "      <td>0.571429</td>\n",
              "      <td>2.319328</td>\n",
              "    </tr>\n",
              "    <tr>\n",
              "      <th>28</th>\n",
              "      <td>[heart disease, sour throat]</td>\n",
              "      <td>0.057971</td>\n",
              "      <td>0.108108</td>\n",
              "      <td>1.491892</td>\n",
              "    </tr>\n",
              "    <tr>\n",
              "      <th>21</th>\n",
              "      <td>[diabetes, lung disease]</td>\n",
              "      <td>0.043478</td>\n",
              "      <td>0.333333</td>\n",
              "      <td>1.352941</td>\n",
              "    </tr>\n",
              "    <tr>\n",
              "      <th>31</th>\n",
              "      <td>[kidney disease, stroke or reduced immunity]</td>\n",
              "      <td>0.043478</td>\n",
              "      <td>0.230769</td>\n",
              "      <td>2.274725</td>\n",
              "    </tr>\n",
              "    <tr>\n",
              "      <th>9</th>\n",
              "      <td>[heart disease, breathing problem]</td>\n",
              "      <td>0.043478</td>\n",
              "      <td>0.600000</td>\n",
              "      <td>1.335484</td>\n",
              "    </tr>\n",
              "    <tr>\n",
              "      <th>27</th>\n",
              "      <td>[heart disease, kidney disease]</td>\n",
              "      <td>0.028986</td>\n",
              "      <td>0.285714</td>\n",
              "      <td>3.942857</td>\n",
              "    </tr>\n",
              "    <tr>\n",
              "      <th>29</th>\n",
              "      <td>[heart disease, stroke or reduced immunity]</td>\n",
              "      <td>0.028986</td>\n",
              "      <td>0.153846</td>\n",
              "      <td>2.123077</td>\n",
              "    </tr>\n",
              "  </tbody>\n",
              "</table>\n",
              "</div>"
            ],
            "text/plain": [
              "                                                 rule  ...      lift\n",
              "25                          [sour throat, drowsiness]  ...  1.139640\n",
              "15                   [drowsiness, change in appetide]  ...  1.505952\n",
              "37                            [sour throat, weakness]  ...  1.107264\n",
              "5               [sour throat, Loss of sense of smell]  ...  1.181081\n",
              "11                 [breathing problem, pain in chest]  ...  1.381535\n",
              "0         [breathing problem, Loss of sense of smell]  ...  1.261290\n",
              "7                  [weakness, Loss of sense of smell]  ...  1.221875\n",
              "12                   [breathing problem, sour throat]  ...  1.022668\n",
              "13                      [breathing problem, weakness]  ...  1.182460\n",
              "35                       [sour throat, pain in chest]  ...  1.028891\n",
              "16                [pain in chest, change in appetide]  ...  1.274631\n",
              "4             [pain in chest, Loss of sense of smell]  ...  1.189655\n",
              "10            [breathing problem, high blood pressue]  ...  1.669355\n",
              "17                     [weakness, change in appetide]  ...  1.078125\n",
              "30                [pain in chest, high blood pressue]  ...  1.546552\n",
              "1        [change in appetide, Loss of sense of smell]  ...  1.067857\n",
              "19                     [diabetes, high blood pressue]  ...  2.435294\n",
              "18                             [diabetes, drowsiness]  ...  1.127451\n",
              "22                          [diabetes, pain in chest]  ...  1.399594\n",
              "8                       [diabetes, breathing problem]  ...  1.178368\n",
              "2        [high blood pressue, Loss of sense of smell]  ...  1.035000\n",
              "26           [stroke or reduced immunity, drowsiness]  ...  1.326923\n",
              "14                     [diabetes, change in appetide]  ...  1.014706\n",
              "36          [stroke or reduced immunity, sour throat]  ...  1.004158\n",
              "38             [stroke or reduced immunity, weakness]  ...  1.161058\n",
              "23             [diabetes, stroke or reduced immunity]  ...  1.873303\n",
              "6   [stroke or reduced immunity, Loss of sense of ...  ...  1.061538\n",
              "34                           [weakness, lung disease]  ...  1.437500\n",
              "24                       [kidney disease, drowsiness]  ...  1.369048\n",
              "32                        [sour throat, lung disease]  ...  1.036036\n",
              "3              [lung disease, Loss of sense of smell]  ...  1.277778\n",
              "33         [stroke or reduced immunity, lung disease]  ...  2.358974\n",
              "20                         [diabetes, kidney disease]  ...  2.319328\n",
              "28                       [heart disease, sour throat]  ...  1.491892\n",
              "21                           [diabetes, lung disease]  ...  1.352941\n",
              "31       [kidney disease, stroke or reduced immunity]  ...  2.274725\n",
              "9                  [heart disease, breathing problem]  ...  1.335484\n",
              "27                    [heart disease, kidney disease]  ...  3.942857\n",
              "29        [heart disease, stroke or reduced immunity]  ...  2.123077\n",
              "\n",
              "[39 rows x 4 columns]"
            ]
          },
          "metadata": {
            "tags": []
          },
          "execution_count": 107
        }
      ]
    },
    {
      "cell_type": "markdown",
      "metadata": {
        "id": "GeWWkHZyVv1n",
        "colab_type": "text"
      },
      "source": [
        "# Discussion"
      ]
    },
    {
      "cell_type": "markdown",
      "metadata": {
        "id": "eqXG_eGEshJ3",
        "colab_type": "text"
      },
      "source": [
        "Top 10 rules that occur in the record"
      ]
    },
    {
      "cell_type": "code",
      "metadata": {
        "id": "DsQxTrzhq2oP",
        "colab_type": "code",
        "outputId": "f80db5a1-545c-427a-eeac-b0aa1da1da92",
        "colab": {
          "base_uri": "https://localhost:8080/",
          "height": 359
        }
      },
      "source": [
        "result_df.sort_values('support', ascending=False)[:10]"
      ],
      "execution_count": 108,
      "outputs": [
        {
          "output_type": "execute_result",
          "data": {
            "text/html": [
              "<div>\n",
              "<style scoped>\n",
              "    .dataframe tbody tr th:only-of-type {\n",
              "        vertical-align: middle;\n",
              "    }\n",
              "\n",
              "    .dataframe tbody tr th {\n",
              "        vertical-align: top;\n",
              "    }\n",
              "\n",
              "    .dataframe thead th {\n",
              "        text-align: right;\n",
              "    }\n",
              "</style>\n",
              "<table border=\"1\" class=\"dataframe\">\n",
              "  <thead>\n",
              "    <tr style=\"text-align: right;\">\n",
              "      <th></th>\n",
              "      <th>rule</th>\n",
              "      <th>support</th>\n",
              "      <th>confidence</th>\n",
              "      <th>lift</th>\n",
              "    </tr>\n",
              "  </thead>\n",
              "  <tbody>\n",
              "    <tr>\n",
              "      <th>25</th>\n",
              "      <td>[sour throat, drowsiness]</td>\n",
              "      <td>0.318841</td>\n",
              "      <td>0.594595</td>\n",
              "      <td>1.139640</td>\n",
              "    </tr>\n",
              "    <tr>\n",
              "      <th>15</th>\n",
              "      <td>[drowsiness, change in appetide]</td>\n",
              "      <td>0.318841</td>\n",
              "      <td>0.611111</td>\n",
              "      <td>1.505952</td>\n",
              "    </tr>\n",
              "    <tr>\n",
              "      <th>37</th>\n",
              "      <td>[sour throat, weakness]</td>\n",
              "      <td>0.275362</td>\n",
              "      <td>0.593750</td>\n",
              "      <td>1.107264</td>\n",
              "    </tr>\n",
              "    <tr>\n",
              "      <th>5</th>\n",
              "      <td>[sour throat, Loss of sense of smell]</td>\n",
              "      <td>0.275362</td>\n",
              "      <td>0.513514</td>\n",
              "      <td>1.181081</td>\n",
              "    </tr>\n",
              "    <tr>\n",
              "      <th>11</th>\n",
              "      <td>[breathing problem, pain in chest]</td>\n",
              "      <td>0.260870</td>\n",
              "      <td>0.620690</td>\n",
              "      <td>1.381535</td>\n",
              "    </tr>\n",
              "    <tr>\n",
              "      <th>0</th>\n",
              "      <td>[breathing problem, Loss of sense of smell]</td>\n",
              "      <td>0.246377</td>\n",
              "      <td>0.548387</td>\n",
              "      <td>1.261290</td>\n",
              "    </tr>\n",
              "    <tr>\n",
              "      <th>7</th>\n",
              "      <td>[weakness, Loss of sense of smell]</td>\n",
              "      <td>0.246377</td>\n",
              "      <td>0.531250</td>\n",
              "      <td>1.221875</td>\n",
              "    </tr>\n",
              "    <tr>\n",
              "      <th>12</th>\n",
              "      <td>[breathing problem, sour throat]</td>\n",
              "      <td>0.246377</td>\n",
              "      <td>0.459459</td>\n",
              "      <td>1.022668</td>\n",
              "    </tr>\n",
              "    <tr>\n",
              "      <th>13</th>\n",
              "      <td>[breathing problem, weakness]</td>\n",
              "      <td>0.246377</td>\n",
              "      <td>0.531250</td>\n",
              "      <td>1.182460</td>\n",
              "    </tr>\n",
              "    <tr>\n",
              "      <th>35</th>\n",
              "      <td>[sour throat, pain in chest]</td>\n",
              "      <td>0.231884</td>\n",
              "      <td>0.432432</td>\n",
              "      <td>1.028891</td>\n",
              "    </tr>\n",
              "  </tbody>\n",
              "</table>\n",
              "</div>"
            ],
            "text/plain": [
              "                                           rule   support  confidence      lift\n",
              "25                    [sour throat, drowsiness]  0.318841    0.594595  1.139640\n",
              "15             [drowsiness, change in appetide]  0.318841    0.611111  1.505952\n",
              "37                      [sour throat, weakness]  0.275362    0.593750  1.107264\n",
              "5         [sour throat, Loss of sense of smell]  0.275362    0.513514  1.181081\n",
              "11           [breathing problem, pain in chest]  0.260870    0.620690  1.381535\n",
              "0   [breathing problem, Loss of sense of smell]  0.246377    0.548387  1.261290\n",
              "7            [weakness, Loss of sense of smell]  0.246377    0.531250  1.221875\n",
              "12             [breathing problem, sour throat]  0.246377    0.459459  1.022668\n",
              "13                [breathing problem, weakness]  0.246377    0.531250  1.182460\n",
              "35                 [sour throat, pain in chest]  0.231884    0.432432  1.028891"
            ]
          },
          "metadata": {
            "tags": []
          },
          "execution_count": 108
        }
      ]
    },
    {
      "cell_type": "markdown",
      "metadata": {
        "id": "XkQQ39yerT8V",
        "colab_type": "text"
      },
      "source": [
        "Note :  \n",
        "- 31.88 % of the records have both sour throat and drowsiness.  \n",
        "  59.46 % of the records that contain sour throat also have drowsiness\n",
        "\n",
        "- 31.88 % of the records have both drowsiness and change in appetide.  \n",
        "  61.11 % of the records that contain drowsiness also have change in appetide"
      ]
    },
    {
      "cell_type": "code",
      "metadata": {
        "id": "3R0jJPybb01G",
        "colab_type": "code",
        "outputId": "220a9079-800c-4032-bae2-fa9ffffe4a43",
        "colab": {
          "base_uri": "https://localhost:8080/",
          "height": 204
        }
      },
      "source": [
        "result_df.sort_values('lift', ascending=False)[:5]"
      ],
      "execution_count": 111,
      "outputs": [
        {
          "output_type": "execute_result",
          "data": {
            "text/html": [
              "<div>\n",
              "<style scoped>\n",
              "    .dataframe tbody tr th:only-of-type {\n",
              "        vertical-align: middle;\n",
              "    }\n",
              "\n",
              "    .dataframe tbody tr th {\n",
              "        vertical-align: top;\n",
              "    }\n",
              "\n",
              "    .dataframe thead th {\n",
              "        text-align: right;\n",
              "    }\n",
              "</style>\n",
              "<table border=\"1\" class=\"dataframe\">\n",
              "  <thead>\n",
              "    <tr style=\"text-align: right;\">\n",
              "      <th></th>\n",
              "      <th>rule</th>\n",
              "      <th>support</th>\n",
              "      <th>confidence</th>\n",
              "      <th>lift</th>\n",
              "    </tr>\n",
              "  </thead>\n",
              "  <tbody>\n",
              "    <tr>\n",
              "      <th>27</th>\n",
              "      <td>[heart disease, kidney disease]</td>\n",
              "      <td>0.028986</td>\n",
              "      <td>0.285714</td>\n",
              "      <td>3.942857</td>\n",
              "    </tr>\n",
              "    <tr>\n",
              "      <th>19</th>\n",
              "      <td>[diabetes, high blood pressue]</td>\n",
              "      <td>0.173913</td>\n",
              "      <td>0.600000</td>\n",
              "      <td>2.435294</td>\n",
              "    </tr>\n",
              "    <tr>\n",
              "      <th>33</th>\n",
              "      <td>[stroke or reduced immunity, lung disease]</td>\n",
              "      <td>0.057971</td>\n",
              "      <td>0.307692</td>\n",
              "      <td>2.358974</td>\n",
              "    </tr>\n",
              "    <tr>\n",
              "      <th>20</th>\n",
              "      <td>[diabetes, kidney disease]</td>\n",
              "      <td>0.057971</td>\n",
              "      <td>0.571429</td>\n",
              "      <td>2.319328</td>\n",
              "    </tr>\n",
              "    <tr>\n",
              "      <th>31</th>\n",
              "      <td>[kidney disease, stroke or reduced immunity]</td>\n",
              "      <td>0.043478</td>\n",
              "      <td>0.230769</td>\n",
              "      <td>2.274725</td>\n",
              "    </tr>\n",
              "  </tbody>\n",
              "</table>\n",
              "</div>"
            ],
            "text/plain": [
              "                                            rule  ...      lift\n",
              "27               [heart disease, kidney disease]  ...  3.942857\n",
              "19                [diabetes, high blood pressue]  ...  2.435294\n",
              "33    [stroke or reduced immunity, lung disease]  ...  2.358974\n",
              "20                    [diabetes, kidney disease]  ...  2.319328\n",
              "31  [kidney disease, stroke or reduced immunity]  ...  2.274725\n",
              "\n",
              "[5 rows x 4 columns]"
            ]
          },
          "metadata": {
            "tags": []
          },
          "execution_count": 111
        }
      ]
    },
    {
      "cell_type": "markdown",
      "metadata": {
        "id": "mg9K7nDKgTkv",
        "colab_type": "text"
      },
      "source": [
        "The maximum lift items : heart disease and kidney disease \n",
        "support = 0.029 means that 2.9% of the records (or 2 out of 69) contains  heart disease and kidney disease.  \n",
        "confidence = 0.286 means that 28.6% of the records that have heart disease also have kidney disease.  \n",
        "lift = 3.943 means that the likelihood of heart disease and kidney disease occur together is 3.943 times more than only kidney disease occur alone."
      ]
    },
    {
      "cell_type": "markdown",
      "metadata": {
        "id": "-8bC6rXdJ0Mv",
        "colab_type": "text"
      },
      "source": [
        "# Symptoms checker\n",
        "- we will make an association rule of maximum 4 symptoms\n",
        "- we will focus only on the support of the set of symptoms"
      ]
    },
    {
      "cell_type": "code",
      "metadata": {
        "id": "pUKoC56yKdrU",
        "colab_type": "code",
        "colab": {}
      },
      "source": [
        "checker_rules = apriori(symptoms, min_support=0.0145, min_confidence=0.001, min_lift=1.0001, max_length=4)"
      ],
      "execution_count": 0,
      "outputs": []
    },
    {
      "cell_type": "code",
      "metadata": {
        "id": "n0fBahgdKnXY",
        "colab_type": "code",
        "colab": {}
      },
      "source": [
        "checker_result = list(checker_rules)"
      ],
      "execution_count": 0,
      "outputs": []
    },
    {
      "cell_type": "code",
      "metadata": {
        "colab_type": "code",
        "outputId": "46a1f471-130a-4218-c0f1-d4a7801c7bf5",
        "id": "rL1nJnk3KlJ6",
        "colab": {
          "base_uri": "https://localhost:8080/",
          "height": 34
        }
      },
      "source": [
        "len(checker_result)"
      ],
      "execution_count": 117,
      "outputs": [
        {
          "output_type": "execute_result",
          "data": {
            "text/plain": [
              "391"
            ]
          },
          "metadata": {
            "tags": []
          },
          "execution_count": 117
        }
      ]
    },
    {
      "cell_type": "code",
      "metadata": {
        "colab_type": "code",
        "id": "mDA5j4ijKlKB",
        "colab": {}
      },
      "source": [
        "results2 = []\n",
        "for i in range(len(checker_result)):\n",
        "  items = list(checker_result[i].items)\n",
        "  support = checker_result[i].support\n",
        "\n",
        "  row = (items, support)\n",
        "  results2.append(row)\n",
        "\n",
        "labels2 = ['rule','support']\n",
        "checker_result_df = pd.DataFrame(results2, columns=labels2)"
      ],
      "execution_count": 0,
      "outputs": []
    },
    {
      "cell_type": "code",
      "metadata": {
        "id": "B9EM-64VLN-R",
        "colab_type": "code",
        "colab": {
          "base_uri": "https://localhost:8080/",
          "height": 419
        },
        "outputId": "ee4337e5-5c82-4827-b17f-9ac446c003d4"
      },
      "source": [
        "checker_result_df.sort_values('support',ascending=False)"
      ],
      "execution_count": 121,
      "outputs": [
        {
          "output_type": "execute_result",
          "data": {
            "text/html": [
              "<div>\n",
              "<style scoped>\n",
              "    .dataframe tbody tr th:only-of-type {\n",
              "        vertical-align: middle;\n",
              "    }\n",
              "\n",
              "    .dataframe tbody tr th {\n",
              "        vertical-align: top;\n",
              "    }\n",
              "\n",
              "    .dataframe thead th {\n",
              "        text-align: right;\n",
              "    }\n",
              "</style>\n",
              "<table border=\"1\" class=\"dataframe\">\n",
              "  <thead>\n",
              "    <tr style=\"text-align: right;\">\n",
              "      <th></th>\n",
              "      <th>rule</th>\n",
              "      <th>support</th>\n",
              "    </tr>\n",
              "  </thead>\n",
              "  <tbody>\n",
              "    <tr>\n",
              "      <th>25</th>\n",
              "      <td>[sour throat, drowsiness]</td>\n",
              "      <td>0.318841</td>\n",
              "    </tr>\n",
              "    <tr>\n",
              "      <th>15</th>\n",
              "      <td>[drowsiness, change in appetide]</td>\n",
              "      <td>0.318841</td>\n",
              "    </tr>\n",
              "    <tr>\n",
              "      <th>37</th>\n",
              "      <td>[sour throat, weakness]</td>\n",
              "      <td>0.275362</td>\n",
              "    </tr>\n",
              "    <tr>\n",
              "      <th>5</th>\n",
              "      <td>[sour throat, Loss of sense of smell]</td>\n",
              "      <td>0.275362</td>\n",
              "    </tr>\n",
              "    <tr>\n",
              "      <th>11</th>\n",
              "      <td>[breathing problem, pain in chest]</td>\n",
              "      <td>0.260870</td>\n",
              "    </tr>\n",
              "    <tr>\n",
              "      <th>...</th>\n",
              "      <td>...</td>\n",
              "      <td>...</td>\n",
              "    </tr>\n",
              "    <tr>\n",
              "      <th>273</th>\n",
              "      <td>[diabetes, breathing problem, high blood press...</td>\n",
              "      <td>0.028986</td>\n",
              "    </tr>\n",
              "    <tr>\n",
              "      <th>274</th>\n",
              "      <td>[diabetes, breathing problem, pain in chest, c...</td>\n",
              "      <td>0.028986</td>\n",
              "    </tr>\n",
              "    <tr>\n",
              "      <th>275</th>\n",
              "      <td>[diabetes, breathing problem, sour throat, cha...</td>\n",
              "      <td>0.028986</td>\n",
              "    </tr>\n",
              "    <tr>\n",
              "      <th>276</th>\n",
              "      <td>[diabetes, stroke or reduced immunity, breathi...</td>\n",
              "      <td>0.028986</td>\n",
              "    </tr>\n",
              "    <tr>\n",
              "      <th>390</th>\n",
              "      <td>[stroke or reduced immunity, weakness, sour th...</td>\n",
              "      <td>0.028986</td>\n",
              "    </tr>\n",
              "  </tbody>\n",
              "</table>\n",
              "<p>391 rows × 2 columns</p>\n",
              "</div>"
            ],
            "text/plain": [
              "                                                  rule   support\n",
              "25                           [sour throat, drowsiness]  0.318841\n",
              "15                    [drowsiness, change in appetide]  0.318841\n",
              "37                             [sour throat, weakness]  0.275362\n",
              "5                [sour throat, Loss of sense of smell]  0.275362\n",
              "11                  [breathing problem, pain in chest]  0.260870\n",
              "..                                                 ...       ...\n",
              "273  [diabetes, breathing problem, high blood press...  0.028986\n",
              "274  [diabetes, breathing problem, pain in chest, c...  0.028986\n",
              "275  [diabetes, breathing problem, sour throat, cha...  0.028986\n",
              "276  [diabetes, stroke or reduced immunity, breathi...  0.028986\n",
              "390  [stroke or reduced immunity, weakness, sour th...  0.028986\n",
              "\n",
              "[391 rows x 2 columns]"
            ]
          },
          "metadata": {
            "tags": []
          },
          "execution_count": 121
        }
      ]
    },
    {
      "cell_type": "code",
      "metadata": {
        "id": "MKfVPDJM3Ak_",
        "colab_type": "code",
        "colab": {}
      },
      "source": [
        "# function to investigate list of symptoms\n",
        "\n",
        "def symptoms_checker(symptoms):\n",
        "  symptom_occur_list = np.ones((len(checker_result_df),), dtype=bool)\n",
        "\n",
        "  for symptom in symptoms :\n",
        "    temp_array = np.array([symptom in items for items in checker_result_df['rule']])\n",
        "    symptom_occur_list = symptom_occur_list & temp_array\n",
        "    \n",
        "  return checker_result_df[symptom_occur_list].sort_values('support', ascending=False)"
      ],
      "execution_count": 0,
      "outputs": []
    },
    {
      "cell_type": "markdown",
      "metadata": {
        "id": "JEfEQN8Jvd_t",
        "colab_type": "text"
      },
      "source": [
        "Let's look at the records contain 'heart disease'."
      ]
    },
    {
      "cell_type": "code",
      "metadata": {
        "id": "LOfGg1KEnzcq",
        "colab_type": "code",
        "outputId": "c9f35829-d3aa-41ae-ac36-18aae948556f",
        "colab": {
          "base_uri": "https://localhost:8080/",
          "height": 607
        }
      },
      "source": [
        "symptom_df = symptoms_checker(['heart disease'])\n",
        "symptom_df"
      ],
      "execution_count": 134,
      "outputs": [
        {
          "output_type": "execute_result",
          "data": {
            "text/html": [
              "<div>\n",
              "<style scoped>\n",
              "    .dataframe tbody tr th:only-of-type {\n",
              "        vertical-align: middle;\n",
              "    }\n",
              "\n",
              "    .dataframe tbody tr th {\n",
              "        vertical-align: top;\n",
              "    }\n",
              "\n",
              "    .dataframe thead th {\n",
              "        text-align: right;\n",
              "    }\n",
              "</style>\n",
              "<table border=\"1\" class=\"dataframe\">\n",
              "  <thead>\n",
              "    <tr style=\"text-align: right;\">\n",
              "      <th></th>\n",
              "      <th>rule</th>\n",
              "      <th>support</th>\n",
              "    </tr>\n",
              "  </thead>\n",
              "  <tbody>\n",
              "    <tr>\n",
              "      <th>28</th>\n",
              "      <td>[heart disease, sour throat]</td>\n",
              "      <td>0.057971</td>\n",
              "    </tr>\n",
              "    <tr>\n",
              "      <th>9</th>\n",
              "      <td>[heart disease, breathing problem]</td>\n",
              "      <td>0.043478</td>\n",
              "    </tr>\n",
              "    <tr>\n",
              "      <th>170</th>\n",
              "      <td>[heart disease, stroke or reduced immunity, kidney disease]</td>\n",
              "      <td>0.028986</td>\n",
              "    </tr>\n",
              "    <tr>\n",
              "      <th>380</th>\n",
              "      <td>[heart disease, stroke or reduced immunity, drowsiness, sour throat]</td>\n",
              "      <td>0.028986</td>\n",
              "    </tr>\n",
              "    <tr>\n",
              "      <th>379</th>\n",
              "      <td>[heart disease, stroke or reduced immunity, kidney disease, drowsiness]</td>\n",
              "      <td>0.028986</td>\n",
              "    </tr>\n",
              "    <tr>\n",
              "      <th>378</th>\n",
              "      <td>[heart disease, kidney disease, drowsiness, sour throat]</td>\n",
              "      <td>0.028986</td>\n",
              "    </tr>\n",
              "    <tr>\n",
              "      <th>316</th>\n",
              "      <td>[heart disease, breathing problem, sour throat, pain in chest]</td>\n",
              "      <td>0.028986</td>\n",
              "    </tr>\n",
              "    <tr>\n",
              "      <th>172</th>\n",
              "      <td>[heart disease, stroke or reduced immunity, sour throat]</td>\n",
              "      <td>0.028986</td>\n",
              "    </tr>\n",
              "    <tr>\n",
              "      <th>171</th>\n",
              "      <td>[heart disease, sour throat, pain in chest]</td>\n",
              "      <td>0.028986</td>\n",
              "    </tr>\n",
              "    <tr>\n",
              "      <th>169</th>\n",
              "      <td>[heart disease, kidney disease, sour throat]</td>\n",
              "      <td>0.028986</td>\n",
              "    </tr>\n",
              "    <tr>\n",
              "      <th>27</th>\n",
              "      <td>[heart disease, kidney disease]</td>\n",
              "      <td>0.028986</td>\n",
              "    </tr>\n",
              "    <tr>\n",
              "      <th>156</th>\n",
              "      <td>[heart disease, stroke or reduced immunity, drowsiness]</td>\n",
              "      <td>0.028986</td>\n",
              "    </tr>\n",
              "    <tr>\n",
              "      <th>155</th>\n",
              "      <td>[heart disease, drowsiness, sour throat]</td>\n",
              "      <td>0.028986</td>\n",
              "    </tr>\n",
              "    <tr>\n",
              "      <th>154</th>\n",
              "      <td>[heart disease, kidney disease, drowsiness]</td>\n",
              "      <td>0.028986</td>\n",
              "    </tr>\n",
              "    <tr>\n",
              "      <th>98</th>\n",
              "      <td>[heart disease, breathing problem, sour throat]</td>\n",
              "      <td>0.028986</td>\n",
              "    </tr>\n",
              "    <tr>\n",
              "      <th>97</th>\n",
              "      <td>[heart disease, breathing problem, pain in chest]</td>\n",
              "      <td>0.028986</td>\n",
              "    </tr>\n",
              "    <tr>\n",
              "      <th>29</th>\n",
              "      <td>[heart disease, stroke or reduced immunity]</td>\n",
              "      <td>0.028986</td>\n",
              "    </tr>\n",
              "    <tr>\n",
              "      <th>389</th>\n",
              "      <td>[heart disease, stroke or reduced immunity, kidney disease, sour throat]</td>\n",
              "      <td>0.028986</td>\n",
              "    </tr>\n",
              "  </tbody>\n",
              "</table>\n",
              "</div>"
            ],
            "text/plain": [
              "                                                                         rule   support\n",
              "28                                               [heart disease, sour throat]  0.057971\n",
              "9                                          [heart disease, breathing problem]  0.043478\n",
              "170               [heart disease, stroke or reduced immunity, kidney disease]  0.028986\n",
              "380      [heart disease, stroke or reduced immunity, drowsiness, sour throat]  0.028986\n",
              "379   [heart disease, stroke or reduced immunity, kidney disease, drowsiness]  0.028986\n",
              "378                  [heart disease, kidney disease, drowsiness, sour throat]  0.028986\n",
              "316            [heart disease, breathing problem, sour throat, pain in chest]  0.028986\n",
              "172                  [heart disease, stroke or reduced immunity, sour throat]  0.028986\n",
              "171                               [heart disease, sour throat, pain in chest]  0.028986\n",
              "169                              [heart disease, kidney disease, sour throat]  0.028986\n",
              "27                                            [heart disease, kidney disease]  0.028986\n",
              "156                   [heart disease, stroke or reduced immunity, drowsiness]  0.028986\n",
              "155                                  [heart disease, drowsiness, sour throat]  0.028986\n",
              "154                               [heart disease, kidney disease, drowsiness]  0.028986\n",
              "98                            [heart disease, breathing problem, sour throat]  0.028986\n",
              "97                          [heart disease, breathing problem, pain in chest]  0.028986\n",
              "29                                [heart disease, stroke or reduced immunity]  0.028986\n",
              "389  [heart disease, stroke or reduced immunity, kidney disease, sour throat]  0.028986"
            ]
          },
          "metadata": {
            "tags": []
          },
          "execution_count": 134
        }
      ]
    },
    {
      "cell_type": "markdown",
      "metadata": {
        "id": "4X3Tcy6CxhNx",
        "colab_type": "text"
      },
      "source": [
        "consider 'heart disease' and 'drowsiness'"
      ]
    },
    {
      "cell_type": "code",
      "metadata": {
        "id": "MkHwFJV5yrTX",
        "colab_type": "code",
        "outputId": "5ffe7415-a7ce-4917-82a4-3224329a4c02",
        "colab": {
          "base_uri": "https://localhost:8080/",
          "height": 235
        }
      },
      "source": [
        "symptom_df = symptoms_checker(['heart disease','drowsiness'])\n",
        "symptom_df"
      ],
      "execution_count": 135,
      "outputs": [
        {
          "output_type": "execute_result",
          "data": {
            "text/html": [
              "<div>\n",
              "<style scoped>\n",
              "    .dataframe tbody tr th:only-of-type {\n",
              "        vertical-align: middle;\n",
              "    }\n",
              "\n",
              "    .dataframe tbody tr th {\n",
              "        vertical-align: top;\n",
              "    }\n",
              "\n",
              "    .dataframe thead th {\n",
              "        text-align: right;\n",
              "    }\n",
              "</style>\n",
              "<table border=\"1\" class=\"dataframe\">\n",
              "  <thead>\n",
              "    <tr style=\"text-align: right;\">\n",
              "      <th></th>\n",
              "      <th>rule</th>\n",
              "      <th>support</th>\n",
              "    </tr>\n",
              "  </thead>\n",
              "  <tbody>\n",
              "    <tr>\n",
              "      <th>154</th>\n",
              "      <td>[heart disease, kidney disease, drowsiness]</td>\n",
              "      <td>0.028986</td>\n",
              "    </tr>\n",
              "    <tr>\n",
              "      <th>155</th>\n",
              "      <td>[heart disease, drowsiness, sour throat]</td>\n",
              "      <td>0.028986</td>\n",
              "    </tr>\n",
              "    <tr>\n",
              "      <th>156</th>\n",
              "      <td>[heart disease, stroke or reduced immunity, drowsiness]</td>\n",
              "      <td>0.028986</td>\n",
              "    </tr>\n",
              "    <tr>\n",
              "      <th>378</th>\n",
              "      <td>[heart disease, kidney disease, drowsiness, sour throat]</td>\n",
              "      <td>0.028986</td>\n",
              "    </tr>\n",
              "    <tr>\n",
              "      <th>379</th>\n",
              "      <td>[heart disease, stroke or reduced immunity, kidney disease, drowsiness]</td>\n",
              "      <td>0.028986</td>\n",
              "    </tr>\n",
              "    <tr>\n",
              "      <th>380</th>\n",
              "      <td>[heart disease, stroke or reduced immunity, drowsiness, sour throat]</td>\n",
              "      <td>0.028986</td>\n",
              "    </tr>\n",
              "  </tbody>\n",
              "</table>\n",
              "</div>"
            ],
            "text/plain": [
              "                                                                        rule   support\n",
              "154                              [heart disease, kidney disease, drowsiness]  0.028986\n",
              "155                                 [heart disease, drowsiness, sour throat]  0.028986\n",
              "156                  [heart disease, stroke or reduced immunity, drowsiness]  0.028986\n",
              "378                 [heart disease, kidney disease, drowsiness, sour throat]  0.028986\n",
              "379  [heart disease, stroke or reduced immunity, kidney disease, drowsiness]  0.028986\n",
              "380     [heart disease, stroke or reduced immunity, drowsiness, sour throat]  0.028986"
            ]
          },
          "metadata": {
            "tags": []
          },
          "execution_count": 135
        }
      ]
    }
  ]
}