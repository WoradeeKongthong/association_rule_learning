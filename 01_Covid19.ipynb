{
  "nbformat": 4,
  "nbformat_minor": 0,
  "metadata": {
    "colab": {
      "name": "01_Covid19.ipynb",
      "provenance": [],
      "authorship_tag": "ABX9TyOpAC1RvzSQi8WoO9sMro/a",
      "include_colab_link": true
    },
    "kernelspec": {
      "name": "python3",
      "display_name": "Python 3"
    }
  },
  "cells": [
    {
      "cell_type": "markdown",
      "metadata": {
        "id": "view-in-github",
        "colab_type": "text"
      },
      "source": [
        "<a href=\"https://colab.research.google.com/github/WoradeeKongthong/association_rule_learning/blob/master/01_Covid19.ipynb\" target=\"_parent\"><img src=\"https://colab.research.google.com/assets/colab-badge.svg\" alt=\"Open In Colab\"/></a>"
      ]
    },
    {
      "cell_type": "markdown",
      "metadata": {
        "id": "GzLHpMmVbHDa",
        "colab_type": "text"
      },
      "source": [
        "Note :  \n",
        "The dataset I use in this learning is part of https://www.kaggle.com/bitsofishan/covid19-patient-symptoms ' dataset.  \n",
        "I choose only the record that the corona result is 1."
      ]
    },
    {
      "cell_type": "code",
      "metadata": {
        "id": "bpA4aqv7AuiM",
        "colab_type": "code",
        "colab": {
          "base_uri": "https://localhost:8080/",
          "height": 71
        },
        "outputId": "b3eb8bc1-dbe8-4675-ba9e-f57b86cf4ef2"
      },
      "source": [
        "#libraries\n",
        "import numpy as np\n",
        "import pandas as pd\n",
        "import matplotlib.pyplot as plt\n",
        "import seaborn as sns"
      ],
      "execution_count": 221,
      "outputs": [
        {
          "output_type": "stream",
          "text": [
            "/usr/local/lib/python3.6/dist-packages/statsmodels/tools/_testing.py:19: FutureWarning: pandas.util.testing is deprecated. Use the functions in the public API at pandas.testing instead.\n",
            "  import pandas.util.testing as tm\n"
          ],
          "name": "stderr"
        }
      ]
    },
    {
      "cell_type": "code",
      "metadata": {
        "id": "vLZLdjmIHdls",
        "colab_type": "code",
        "colab": {}
      },
      "source": [
        "columns = [1,2,3,4,5,7,8,9,10,12,13,14,15]"
      ],
      "execution_count": 0,
      "outputs": []
    },
    {
      "cell_type": "code",
      "metadata": {
        "id": "5cjco98PH0o6",
        "colab_type": "code",
        "colab": {
          "base_uri": "https://localhost:8080/",
          "height": 34
        },
        "outputId": "c167829d-0a60-407e-b333-94e3e497917b"
      },
      "source": [
        "columns = [i for i in range(16) if ((i!=6)&(i!=11))]\n",
        "\n",
        "columns"
      ],
      "execution_count": 142,
      "outputs": [
        {
          "output_type": "execute_result",
          "data": {
            "text/plain": [
              "[0, 1, 2, 3, 4, 5, 7, 8, 9, 10, 12, 13, 14, 15]"
            ]
          },
          "metadata": {
            "tags": []
          },
          "execution_count": 142
        }
      ]
    },
    {
      "cell_type": "code",
      "metadata": {
        "id": "Urox1yvqBKrw",
        "colab_type": "code",
        "colab": {}
      },
      "source": [
        "df = pd.read_csv('https://raw.githubusercontent.com/WoradeeKongthong/association_rule_learning/master/corona_symptoms.csv',usecols=[i for i in range(1,16) if ((i!=6)&(i!=11))])"
      ],
      "execution_count": 0,
      "outputs": []
    },
    {
      "cell_type": "markdown",
      "metadata": {
        "id": "GqN-5bfSCe3k",
        "colab_type": "text"
      },
      "source": [
        "# Dataset : covid19 symptoms"
      ]
    },
    {
      "cell_type": "code",
      "metadata": {
        "id": "ywkqJ9pnc4xq",
        "colab_type": "code",
        "colab": {
          "base_uri": "https://localhost:8080/",
          "height": 507
        },
        "outputId": "f263aa8f-cb5c-427d-a56f-6cb2048d2350"
      },
      "source": [
        "df"
      ],
      "execution_count": 146,
      "outputs": [
        {
          "output_type": "execute_result",
          "data": {
            "text/html": [
              "<div>\n",
              "<style scoped>\n",
              "    .dataframe tbody tr th:only-of-type {\n",
              "        vertical-align: middle;\n",
              "    }\n",
              "\n",
              "    .dataframe tbody tr th {\n",
              "        vertical-align: top;\n",
              "    }\n",
              "\n",
              "    .dataframe thead th {\n",
              "        text-align: right;\n",
              "    }\n",
              "</style>\n",
              "<table border=\"1\" class=\"dataframe\">\n",
              "  <thead>\n",
              "    <tr style=\"text-align: right;\">\n",
              "      <th></th>\n",
              "      <th>sour throat</th>\n",
              "      <th>weakness</th>\n",
              "      <th>breathing problem</th>\n",
              "      <th>drowsiness</th>\n",
              "      <th>pain in chest</th>\n",
              "      <th>diabetes</th>\n",
              "      <th>heart disease</th>\n",
              "      <th>lung disease</th>\n",
              "      <th>stroke or reduced immunity</th>\n",
              "      <th>high blood pressue</th>\n",
              "      <th>kidney disease</th>\n",
              "      <th>change in appetide</th>\n",
              "      <th>Loss of sense of smell</th>\n",
              "    </tr>\n",
              "  </thead>\n",
              "  <tbody>\n",
              "    <tr>\n",
              "      <th>0</th>\n",
              "      <td>1</td>\n",
              "      <td>1</td>\n",
              "      <td>1</td>\n",
              "      <td>1</td>\n",
              "      <td>1</td>\n",
              "      <td>0</td>\n",
              "      <td>0</td>\n",
              "      <td>0</td>\n",
              "      <td>0</td>\n",
              "      <td>0</td>\n",
              "      <td>0</td>\n",
              "      <td>1</td>\n",
              "      <td>0</td>\n",
              "    </tr>\n",
              "    <tr>\n",
              "      <th>1</th>\n",
              "      <td>0</td>\n",
              "      <td>1</td>\n",
              "      <td>0</td>\n",
              "      <td>0</td>\n",
              "      <td>0</td>\n",
              "      <td>0</td>\n",
              "      <td>0</td>\n",
              "      <td>0</td>\n",
              "      <td>0</td>\n",
              "      <td>0</td>\n",
              "      <td>0</td>\n",
              "      <td>1</td>\n",
              "      <td>0</td>\n",
              "    </tr>\n",
              "    <tr>\n",
              "      <th>2</th>\n",
              "      <td>1</td>\n",
              "      <td>0</td>\n",
              "      <td>0</td>\n",
              "      <td>1</td>\n",
              "      <td>0</td>\n",
              "      <td>1</td>\n",
              "      <td>1</td>\n",
              "      <td>0</td>\n",
              "      <td>1</td>\n",
              "      <td>0</td>\n",
              "      <td>1</td>\n",
              "      <td>0</td>\n",
              "      <td>0</td>\n",
              "    </tr>\n",
              "    <tr>\n",
              "      <th>3</th>\n",
              "      <td>1</td>\n",
              "      <td>1</td>\n",
              "      <td>0</td>\n",
              "      <td>0</td>\n",
              "      <td>0</td>\n",
              "      <td>0</td>\n",
              "      <td>0</td>\n",
              "      <td>0</td>\n",
              "      <td>0</td>\n",
              "      <td>0</td>\n",
              "      <td>0</td>\n",
              "      <td>1</td>\n",
              "      <td>0</td>\n",
              "    </tr>\n",
              "    <tr>\n",
              "      <th>4</th>\n",
              "      <td>0</td>\n",
              "      <td>1</td>\n",
              "      <td>0</td>\n",
              "      <td>0</td>\n",
              "      <td>1</td>\n",
              "      <td>0</td>\n",
              "      <td>0</td>\n",
              "      <td>0</td>\n",
              "      <td>0</td>\n",
              "      <td>0</td>\n",
              "      <td>1</td>\n",
              "      <td>1</td>\n",
              "      <td>0</td>\n",
              "    </tr>\n",
              "    <tr>\n",
              "      <th>...</th>\n",
              "      <td>...</td>\n",
              "      <td>...</td>\n",
              "      <td>...</td>\n",
              "      <td>...</td>\n",
              "      <td>...</td>\n",
              "      <td>...</td>\n",
              "      <td>...</td>\n",
              "      <td>...</td>\n",
              "      <td>...</td>\n",
              "      <td>...</td>\n",
              "      <td>...</td>\n",
              "      <td>...</td>\n",
              "      <td>...</td>\n",
              "    </tr>\n",
              "    <tr>\n",
              "      <th>64</th>\n",
              "      <td>0</td>\n",
              "      <td>0</td>\n",
              "      <td>0</td>\n",
              "      <td>1</td>\n",
              "      <td>0</td>\n",
              "      <td>0</td>\n",
              "      <td>0</td>\n",
              "      <td>0</td>\n",
              "      <td>0</td>\n",
              "      <td>0</td>\n",
              "      <td>1</td>\n",
              "      <td>0</td>\n",
              "      <td>0</td>\n",
              "    </tr>\n",
              "    <tr>\n",
              "      <th>65</th>\n",
              "      <td>1</td>\n",
              "      <td>1</td>\n",
              "      <td>1</td>\n",
              "      <td>1</td>\n",
              "      <td>1</td>\n",
              "      <td>1</td>\n",
              "      <td>0</td>\n",
              "      <td>0</td>\n",
              "      <td>1</td>\n",
              "      <td>0</td>\n",
              "      <td>0</td>\n",
              "      <td>1</td>\n",
              "      <td>1</td>\n",
              "    </tr>\n",
              "    <tr>\n",
              "      <th>66</th>\n",
              "      <td>0</td>\n",
              "      <td>0</td>\n",
              "      <td>0</td>\n",
              "      <td>1</td>\n",
              "      <td>1</td>\n",
              "      <td>1</td>\n",
              "      <td>0</td>\n",
              "      <td>0</td>\n",
              "      <td>0</td>\n",
              "      <td>0</td>\n",
              "      <td>0</td>\n",
              "      <td>1</td>\n",
              "      <td>1</td>\n",
              "    </tr>\n",
              "    <tr>\n",
              "      <th>67</th>\n",
              "      <td>0</td>\n",
              "      <td>0</td>\n",
              "      <td>0</td>\n",
              "      <td>1</td>\n",
              "      <td>1</td>\n",
              "      <td>1</td>\n",
              "      <td>0</td>\n",
              "      <td>0</td>\n",
              "      <td>0</td>\n",
              "      <td>1</td>\n",
              "      <td>0</td>\n",
              "      <td>1</td>\n",
              "      <td>0</td>\n",
              "    </tr>\n",
              "    <tr>\n",
              "      <th>68</th>\n",
              "      <td>0</td>\n",
              "      <td>0</td>\n",
              "      <td>1</td>\n",
              "      <td>0</td>\n",
              "      <td>0</td>\n",
              "      <td>0</td>\n",
              "      <td>0</td>\n",
              "      <td>0</td>\n",
              "      <td>1</td>\n",
              "      <td>0</td>\n",
              "      <td>0</td>\n",
              "      <td>0</td>\n",
              "      <td>1</td>\n",
              "    </tr>\n",
              "  </tbody>\n",
              "</table>\n",
              "<p>69 rows × 13 columns</p>\n",
              "</div>"
            ],
            "text/plain": [
              "    sour throat  weakness  ...  change in appetide  Loss of sense of smell\n",
              "0             1         1  ...                   1                       0\n",
              "1             0         1  ...                   1                       0\n",
              "2             1         0  ...                   0                       0\n",
              "3             1         1  ...                   1                       0\n",
              "4             0         1  ...                   1                       0\n",
              "..          ...       ...  ...                 ...                     ...\n",
              "64            0         0  ...                   0                       0\n",
              "65            1         1  ...                   1                       1\n",
              "66            0         0  ...                   1                       1\n",
              "67            0         0  ...                   1                       0\n",
              "68            0         0  ...                   0                       1\n",
              "\n",
              "[69 rows x 13 columns]"
            ]
          },
          "metadata": {
            "tags": []
          },
          "execution_count": 146
        }
      ]
    },
    {
      "cell_type": "markdown",
      "metadata": {
        "id": "Vv5WTl6lCrhO",
        "colab_type": "text"
      },
      "source": [
        "# Data Proprocessor\n",
        "\n",
        "input of a priori model is a list of lists of symptoms in each case"
      ]
    },
    {
      "cell_type": "code",
      "metadata": {
        "id": "-d7LIL17gBiv",
        "colab_type": "code",
        "colab": {}
      },
      "source": [
        "symptoms = []\n",
        "for i in range(len(df)):\n",
        "  temp = df.iloc[i,:]\n",
        "  symptoms.append(list(temp[temp==1].index.values))"
      ],
      "execution_count": 0,
      "outputs": []
    },
    {
      "cell_type": "code",
      "metadata": {
        "id": "oSRVCtlUiCmr",
        "colab_type": "code",
        "colab": {
          "base_uri": "https://localhost:8080/",
          "height": 272
        },
        "outputId": "e91ee095-90e1-4b9e-ac3b-20afdd8a52ae"
      },
      "source": [
        "# example of symptoms list\n",
        "symptoms[:5]"
      ],
      "execution_count": 148,
      "outputs": [
        {
          "output_type": "execute_result",
          "data": {
            "text/plain": [
              "[['sour throat',\n",
              "  'weakness',\n",
              "  'breathing problem',\n",
              "  'drowsiness',\n",
              "  'pain in chest',\n",
              "  'change in appetide'],\n",
              " ['weakness', 'change in appetide'],\n",
              " ['sour throat',\n",
              "  'drowsiness',\n",
              "  'diabetes',\n",
              "  'heart disease',\n",
              "  'stroke or reduced immunity',\n",
              "  'kidney disease'],\n",
              " ['sour throat', 'weakness', 'change in appetide'],\n",
              " ['weakness', 'pain in chest', 'kidney disease', 'change in appetide']]"
            ]
          },
          "metadata": {
            "tags": []
          },
          "execution_count": 148
        }
      ]
    },
    {
      "cell_type": "markdown",
      "metadata": {
        "id": "IjMRs1VgDd-n",
        "colab_type": "text"
      },
      "source": [
        "# Association Rule Learning\n",
        "\n",
        "Simple learning of Covid-19 symptoms that occur together."
      ]
    },
    {
      "cell_type": "code",
      "metadata": {
        "id": "XByXu1a7EHus",
        "colab_type": "code",
        "colab": {}
      },
      "source": [
        "from apyori import apriori\n",
        "rules = apriori(symptoms, min_support=0.0145, min_confidence=0.01, min_lift=0, min_length=2)"
      ],
      "execution_count": 0,
      "outputs": []
    },
    {
      "cell_type": "markdown",
      "metadata": {
        "id": "M16VLhTSJ1To",
        "colab_type": "text"
      },
      "source": [
        "Note  \n",
        "- consider every symptoms, even one that occur in one case  \n",
        "    min_support = 1/69 = 0.0145\n",
        "- let's set the minimum likelihood that the symptom B is occured if symptom A is occur to very low value (0.01) to capture all possibilities\n",
        "- let's consider the likelihood that symptoms A&B are occured is at least 0 times more than the likelihood of only symptoms B is occured, to see the symptoms that are unlikely to occur together\n",
        "- min_length is the minimum number of item in the rules"
      ]
    },
    {
      "cell_type": "markdown",
      "metadata": {
        "id": "q-H5MxuVEvSn",
        "colab_type": "text"
      },
      "source": [
        "# Results of the learning"
      ]
    },
    {
      "cell_type": "code",
      "metadata": {
        "id": "DSVsgR1bz1xg",
        "colab_type": "code",
        "colab": {}
      },
      "source": [
        "results = list(rules)"
      ],
      "execution_count": 0,
      "outputs": []
    },
    {
      "cell_type": "code",
      "metadata": {
        "id": "tyT67IUPGAkw",
        "colab_type": "code",
        "colab": {
          "base_uri": "https://localhost:8080/",
          "height": 34
        },
        "outputId": "78f84abb-59d1-4901-f72c-55644c123a1c"
      },
      "source": [
        "len(results)"
      ],
      "execution_count": 215,
      "outputs": [
        {
          "output_type": "execute_result",
          "data": {
            "text/plain": [
              "770"
            ]
          },
          "metadata": {
            "tags": []
          },
          "execution_count": 215
        }
      ]
    },
    {
      "cell_type": "markdown",
      "metadata": {
        "id": "aLLBbG2CFP7o",
        "colab_type": "text"
      },
      "source": [
        "let's see the first 10 rules"
      ]
    },
    {
      "cell_type": "code",
      "metadata": {
        "id": "YLCWczYQz9N1",
        "colab_type": "code",
        "colab": {}
      },
      "source": [
        "results1 = []\n",
        "for i in range(len(results)):\n",
        "  items = list(results[i].items)\n",
        "  support = results[i].support\n",
        "  confidence = results[i].ordered_statistics[0][2]\n",
        "  lift = results[i].ordered_statistics[0][3]\n",
        "\n",
        "  row = (items, support, confidence, lift)\n",
        "  results1.append(row)\n",
        "\n",
        "labels = ['rule','support','confidence','lift']\n",
        "result_df = pd.DataFrame(results1, columns=labels)"
      ],
      "execution_count": 0,
      "outputs": []
    },
    {
      "cell_type": "code",
      "metadata": {
        "id": "9ZwqB4HXSkBH",
        "colab_type": "code",
        "colab": {
          "base_uri": "https://localhost:8080/",
          "height": 419
        },
        "outputId": "ad6d4a26-9ea2-4936-830b-8744ee7cbb39"
      },
      "source": [
        "result_df.sort_values('lift', ascending=False)"
      ],
      "execution_count": 220,
      "outputs": [
        {
          "output_type": "execute_result",
          "data": {
            "text/html": [
              "<div>\n",
              "<style scoped>\n",
              "    .dataframe tbody tr th:only-of-type {\n",
              "        vertical-align: middle;\n",
              "    }\n",
              "\n",
              "    .dataframe tbody tr th {\n",
              "        vertical-align: top;\n",
              "    }\n",
              "\n",
              "    .dataframe thead th {\n",
              "        text-align: right;\n",
              "    }\n",
              "</style>\n",
              "<table border=\"1\" class=\"dataframe\">\n",
              "  <thead>\n",
              "    <tr style=\"text-align: right;\">\n",
              "      <th></th>\n",
              "      <th>rule</th>\n",
              "      <th>support</th>\n",
              "      <th>confidence</th>\n",
              "      <th>lift</th>\n",
              "    </tr>\n",
              "  </thead>\n",
              "  <tbody>\n",
              "    <tr>\n",
              "      <th>202</th>\n",
              "      <td>[drowsiness, kidney disease, heart disease]</td>\n",
              "      <td>0.028986</td>\n",
              "      <td>1.000000</td>\n",
              "      <td>9.857143</td>\n",
              "    </tr>\n",
              "    <tr>\n",
              "      <th>437</th>\n",
              "      <td>[stroke or reduced immunity, drowsiness, kidne...</td>\n",
              "      <td>0.028986</td>\n",
              "      <td>1.000000</td>\n",
              "      <td>5.307692</td>\n",
              "    </tr>\n",
              "    <tr>\n",
              "      <th>726</th>\n",
              "      <td>[breathing problem, change in appetide, sour t...</td>\n",
              "      <td>0.028986</td>\n",
              "      <td>1.000000</td>\n",
              "      <td>5.307692</td>\n",
              "    </tr>\n",
              "    <tr>\n",
              "      <th>649</th>\n",
              "      <td>[breathing problem, diabetes, pain in chest, L...</td>\n",
              "      <td>0.028986</td>\n",
              "      <td>1.000000</td>\n",
              "      <td>5.307692</td>\n",
              "    </tr>\n",
              "    <tr>\n",
              "      <th>651</th>\n",
              "      <td>[breathing problem, sour throat, diabetes, Los...</td>\n",
              "      <td>0.028986</td>\n",
              "      <td>1.000000</td>\n",
              "      <td>5.307692</td>\n",
              "    </tr>\n",
              "    <tr>\n",
              "      <th>...</th>\n",
              "      <td>...</td>\n",
              "      <td>...</td>\n",
              "      <td>...</td>\n",
              "      <td>...</td>\n",
              "    </tr>\n",
              "    <tr>\n",
              "      <th>207</th>\n",
              "      <td>[drowsiness, sour throat, high blood pressue]</td>\n",
              "      <td>0.028986</td>\n",
              "      <td>0.250000</td>\n",
              "      <td>0.466216</td>\n",
              "    </tr>\n",
              "    <tr>\n",
              "      <th>82</th>\n",
              "      <td>[Loss of sense of smell, breathing problem, dr...</td>\n",
              "      <td>0.057971</td>\n",
              "      <td>0.235294</td>\n",
              "      <td>0.450980</td>\n",
              "    </tr>\n",
              "    <tr>\n",
              "      <th>371</th>\n",
              "      <td>[pain in chest, breathing problem, sour throat...</td>\n",
              "      <td>0.028986</td>\n",
              "      <td>0.222222</td>\n",
              "      <td>0.414414</td>\n",
              "    </tr>\n",
              "    <tr>\n",
              "      <th>134</th>\n",
              "      <td>[breathing problem, diabetes, sour throat]</td>\n",
              "      <td>0.028986</td>\n",
              "      <td>0.222222</td>\n",
              "      <td>0.414414</td>\n",
              "    </tr>\n",
              "    <tr>\n",
              "      <th>147</th>\n",
              "      <td>[breathing problem, sour throat, high blood pr...</td>\n",
              "      <td>0.043478</td>\n",
              "      <td>0.200000</td>\n",
              "      <td>0.372973</td>\n",
              "    </tr>\n",
              "  </tbody>\n",
              "</table>\n",
              "<p>770 rows × 4 columns</p>\n",
              "</div>"
            ],
            "text/plain": [
              "                                                  rule  ...      lift\n",
              "202        [drowsiness, kidney disease, heart disease]  ...  9.857143\n",
              "437  [stroke or reduced immunity, drowsiness, kidne...  ...  5.307692\n",
              "726  [breathing problem, change in appetide, sour t...  ...  5.307692\n",
              "649  [breathing problem, diabetes, pain in chest, L...  ...  5.307692\n",
              "651  [breathing problem, sour throat, diabetes, Los...  ...  5.307692\n",
              "..                                                 ...  ...       ...\n",
              "207      [drowsiness, sour throat, high blood pressue]  ...  0.466216\n",
              "82   [Loss of sense of smell, breathing problem, dr...  ...  0.450980\n",
              "371  [pain in chest, breathing problem, sour throat...  ...  0.414414\n",
              "134         [breathing problem, diabetes, sour throat]  ...  0.414414\n",
              "147  [breathing problem, sour throat, high blood pr...  ...  0.372973\n",
              "\n",
              "[770 rows x 4 columns]"
            ]
          },
          "metadata": {
            "tags": []
          },
          "execution_count": 220
        }
      ]
    },
    {
      "cell_type": "markdown",
      "metadata": {
        "id": "GeWWkHZyVv1n",
        "colab_type": "text"
      },
      "source": [
        "# Discussion"
      ]
    },
    {
      "cell_type": "markdown",
      "metadata": {
        "id": "eqXG_eGEshJ3",
        "colab_type": "text"
      },
      "source": [
        "Top 10 rules that occur in the record"
      ]
    },
    {
      "cell_type": "code",
      "metadata": {
        "id": "DsQxTrzhq2oP",
        "colab_type": "code",
        "colab": {
          "base_uri": "https://localhost:8080/",
          "height": 359
        },
        "outputId": "036f070d-a71f-4a0f-bf10-9d873c466627"
      },
      "source": [
        "result_df.sort_values('support', ascending=False)[:10]"
      ],
      "execution_count": 265,
      "outputs": [
        {
          "output_type": "execute_result",
          "data": {
            "text/html": [
              "<div>\n",
              "<style scoped>\n",
              "    .dataframe tbody tr th:only-of-type {\n",
              "        vertical-align: middle;\n",
              "    }\n",
              "\n",
              "    .dataframe tbody tr th {\n",
              "        vertical-align: top;\n",
              "    }\n",
              "\n",
              "    .dataframe thead th {\n",
              "        text-align: right;\n",
              "    }\n",
              "</style>\n",
              "<table border=\"1\" class=\"dataframe\">\n",
              "  <thead>\n",
              "    <tr style=\"text-align: right;\">\n",
              "      <th></th>\n",
              "      <th>rule</th>\n",
              "      <th>support</th>\n",
              "      <th>confidence</th>\n",
              "      <th>lift</th>\n",
              "    </tr>\n",
              "  </thead>\n",
              "  <tbody>\n",
              "    <tr>\n",
              "      <th>10</th>\n",
              "      <td>[sour throat]</td>\n",
              "      <td>0.536232</td>\n",
              "      <td>0.536232</td>\n",
              "      <td>1.000000</td>\n",
              "    </tr>\n",
              "    <tr>\n",
              "      <th>4</th>\n",
              "      <td>[drowsiness]</td>\n",
              "      <td>0.521739</td>\n",
              "      <td>0.521739</td>\n",
              "      <td>1.000000</td>\n",
              "    </tr>\n",
              "    <tr>\n",
              "      <th>12</th>\n",
              "      <td>[weakness]</td>\n",
              "      <td>0.463768</td>\n",
              "      <td>0.463768</td>\n",
              "      <td>1.000000</td>\n",
              "    </tr>\n",
              "    <tr>\n",
              "      <th>1</th>\n",
              "      <td>[breathing problem]</td>\n",
              "      <td>0.449275</td>\n",
              "      <td>0.449275</td>\n",
              "      <td>1.000000</td>\n",
              "    </tr>\n",
              "    <tr>\n",
              "      <th>0</th>\n",
              "      <td>[Loss of sense of smell]</td>\n",
              "      <td>0.434783</td>\n",
              "      <td>0.434783</td>\n",
              "      <td>1.000000</td>\n",
              "    </tr>\n",
              "    <tr>\n",
              "      <th>9</th>\n",
              "      <td>[pain in chest]</td>\n",
              "      <td>0.420290</td>\n",
              "      <td>0.420290</td>\n",
              "      <td>1.000000</td>\n",
              "    </tr>\n",
              "    <tr>\n",
              "      <th>2</th>\n",
              "      <td>[change in appetide]</td>\n",
              "      <td>0.405797</td>\n",
              "      <td>0.405797</td>\n",
              "      <td>1.000000</td>\n",
              "    </tr>\n",
              "    <tr>\n",
              "      <th>35</th>\n",
              "      <td>[change in appetide, drowsiness]</td>\n",
              "      <td>0.318841</td>\n",
              "      <td>0.785714</td>\n",
              "      <td>1.505952</td>\n",
              "    </tr>\n",
              "    <tr>\n",
              "      <th>55</th>\n",
              "      <td>[drowsiness, sour throat]</td>\n",
              "      <td>0.318841</td>\n",
              "      <td>0.611111</td>\n",
              "      <td>1.139640</td>\n",
              "    </tr>\n",
              "    <tr>\n",
              "      <th>6</th>\n",
              "      <td>[high blood pressue]</td>\n",
              "      <td>0.289855</td>\n",
              "      <td>0.289855</td>\n",
              "      <td>1.000000</td>\n",
              "    </tr>\n",
              "  </tbody>\n",
              "</table>\n",
              "</div>"
            ],
            "text/plain": [
              "                                rule   support  confidence      lift\n",
              "10                     [sour throat]  0.536232    0.536232  1.000000\n",
              "4                       [drowsiness]  0.521739    0.521739  1.000000\n",
              "12                        [weakness]  0.463768    0.463768  1.000000\n",
              "1                [breathing problem]  0.449275    0.449275  1.000000\n",
              "0           [Loss of sense of smell]  0.434783    0.434783  1.000000\n",
              "9                    [pain in chest]  0.420290    0.420290  1.000000\n",
              "2               [change in appetide]  0.405797    0.405797  1.000000\n",
              "35  [change in appetide, drowsiness]  0.318841    0.785714  1.505952\n",
              "55         [drowsiness, sour throat]  0.318841    0.611111  1.139640\n",
              "6               [high blood pressue]  0.289855    0.289855  1.000000"
            ]
          },
          "metadata": {
            "tags": []
          },
          "execution_count": 265
        }
      ]
    },
    {
      "cell_type": "markdown",
      "metadata": {
        "id": "XkQQ39yerT8V",
        "colab_type": "text"
      },
      "source": [
        "Note : the symptoms that occur in more than 50% of the record are 'sour throat' and 'drowsiness'"
      ]
    },
    {
      "cell_type": "code",
      "metadata": {
        "id": "eA9ihELCkB7I",
        "colab_type": "code",
        "colab": {
          "base_uri": "https://localhost:8080/",
          "height": 419
        },
        "outputId": "c8daff0d-8d04-4f57-f291-7b5e29a242dc"
      },
      "source": [
        "result_df[(result_df['confidence']==1)]"
      ],
      "execution_count": 244,
      "outputs": [
        {
          "output_type": "execute_result",
          "data": {
            "text/html": [
              "<div>\n",
              "<style scoped>\n",
              "    .dataframe tbody tr th:only-of-type {\n",
              "        vertical-align: middle;\n",
              "    }\n",
              "\n",
              "    .dataframe tbody tr th {\n",
              "        vertical-align: top;\n",
              "    }\n",
              "\n",
              "    .dataframe thead th {\n",
              "        text-align: right;\n",
              "    }\n",
              "</style>\n",
              "<table border=\"1\" class=\"dataframe\">\n",
              "  <thead>\n",
              "    <tr style=\"text-align: right;\">\n",
              "      <th></th>\n",
              "      <th>rule</th>\n",
              "      <th>support</th>\n",
              "      <th>confidence</th>\n",
              "      <th>lift</th>\n",
              "    </tr>\n",
              "  </thead>\n",
              "  <tbody>\n",
              "    <tr>\n",
              "      <th>159</th>\n",
              "      <td>[change in appetide, drowsiness, diabetes]</td>\n",
              "      <td>0.101449</td>\n",
              "      <td>1.0</td>\n",
              "      <td>1.916667</td>\n",
              "    </tr>\n",
              "    <tr>\n",
              "      <th>174</th>\n",
              "      <td>[pain in chest, change in appetide, lung disease]</td>\n",
              "      <td>0.028986</td>\n",
              "      <td>1.0</td>\n",
              "      <td>2.379310</td>\n",
              "    </tr>\n",
              "    <tr>\n",
              "      <th>175</th>\n",
              "      <td>[change in appetide, weakness, lung disease]</td>\n",
              "      <td>0.028986</td>\n",
              "      <td>1.0</td>\n",
              "      <td>2.156250</td>\n",
              "    </tr>\n",
              "    <tr>\n",
              "      <th>194</th>\n",
              "      <td>[diabetes, stroke or reduced immunity, lung di...</td>\n",
              "      <td>0.043478</td>\n",
              "      <td>1.0</td>\n",
              "      <td>5.307692</td>\n",
              "    </tr>\n",
              "    <tr>\n",
              "      <th>202</th>\n",
              "      <td>[drowsiness, kidney disease, heart disease]</td>\n",
              "      <td>0.028986</td>\n",
              "      <td>1.0</td>\n",
              "      <td>9.857143</td>\n",
              "    </tr>\n",
              "    <tr>\n",
              "      <th>...</th>\n",
              "      <td>...</td>\n",
              "      <td>...</td>\n",
              "      <td>...</td>\n",
              "      <td>...</td>\n",
              "    </tr>\n",
              "    <tr>\n",
              "      <th>765</th>\n",
              "      <td>[breathing problem, change in appetide, sour t...</td>\n",
              "      <td>0.028986</td>\n",
              "      <td>1.0</td>\n",
              "      <td>2.156250</td>\n",
              "    </tr>\n",
              "    <tr>\n",
              "      <th>766</th>\n",
              "      <td>[breathing problem, sour throat, diabetes, pai...</td>\n",
              "      <td>0.028986</td>\n",
              "      <td>1.0</td>\n",
              "      <td>2.156250</td>\n",
              "    </tr>\n",
              "    <tr>\n",
              "      <th>767</th>\n",
              "      <td>[change in appetide, sour throat, diabetes, pa...</td>\n",
              "      <td>0.028986</td>\n",
              "      <td>1.0</td>\n",
              "      <td>2.156250</td>\n",
              "    </tr>\n",
              "    <tr>\n",
              "      <th>768</th>\n",
              "      <td>[breathing problem, change in appetide, sour t...</td>\n",
              "      <td>0.028986</td>\n",
              "      <td>1.0</td>\n",
              "      <td>2.156250</td>\n",
              "    </tr>\n",
              "    <tr>\n",
              "      <th>769</th>\n",
              "      <td>[breathing problem, change in appetide, sour t...</td>\n",
              "      <td>0.028986</td>\n",
              "      <td>1.0</td>\n",
              "      <td>2.156250</td>\n",
              "    </tr>\n",
              "  </tbody>\n",
              "</table>\n",
              "<p>254 rows × 4 columns</p>\n",
              "</div>"
            ],
            "text/plain": [
              "                                                  rule  ...      lift\n",
              "159         [change in appetide, drowsiness, diabetes]  ...  1.916667\n",
              "174  [pain in chest, change in appetide, lung disease]  ...  2.379310\n",
              "175       [change in appetide, weakness, lung disease]  ...  2.156250\n",
              "194  [diabetes, stroke or reduced immunity, lung di...  ...  5.307692\n",
              "202        [drowsiness, kidney disease, heart disease]  ...  9.857143\n",
              "..                                                 ...  ...       ...\n",
              "765  [breathing problem, change in appetide, sour t...  ...  2.156250\n",
              "766  [breathing problem, sour throat, diabetes, pai...  ...  2.156250\n",
              "767  [change in appetide, sour throat, diabetes, pa...  ...  2.156250\n",
              "768  [breathing problem, change in appetide, sour t...  ...  2.156250\n",
              "769  [breathing problem, change in appetide, sour t...  ...  2.156250\n",
              "\n",
              "[254 rows x 4 columns]"
            ]
          },
          "metadata": {
            "tags": []
          },
          "execution_count": 244
        }
      ]
    },
    {
      "cell_type": "markdown",
      "metadata": {
        "id": "FKploPm8ksUn",
        "colab_type": "text"
      },
      "source": [
        "Note : confidence = 1 means all symptoms in the rule always occur together.\n",
        "There are 254 rules that always occur together"
      ]
    },
    {
      "cell_type": "code",
      "metadata": {
        "id": "GNNs_KX6S-a9",
        "colab_type": "code",
        "colab": {
          "base_uri": "https://localhost:8080/",
          "height": 452
        },
        "outputId": "2691b562-0db6-45e1-9f8c-3a160e184ccb"
      },
      "source": [
        "result_df[result_df['lift']==1]"
      ],
      "execution_count": 218,
      "outputs": [
        {
          "output_type": "execute_result",
          "data": {
            "text/html": [
              "<div>\n",
              "<style scoped>\n",
              "    .dataframe tbody tr th:only-of-type {\n",
              "        vertical-align: middle;\n",
              "    }\n",
              "\n",
              "    .dataframe tbody tr th {\n",
              "        vertical-align: top;\n",
              "    }\n",
              "\n",
              "    .dataframe thead th {\n",
              "        text-align: right;\n",
              "    }\n",
              "</style>\n",
              "<table border=\"1\" class=\"dataframe\">\n",
              "  <thead>\n",
              "    <tr style=\"text-align: right;\">\n",
              "      <th></th>\n",
              "      <th>rule</th>\n",
              "      <th>support</th>\n",
              "      <th>confidence</th>\n",
              "      <th>lift</th>\n",
              "    </tr>\n",
              "  </thead>\n",
              "  <tbody>\n",
              "    <tr>\n",
              "      <th>0</th>\n",
              "      <td>[Loss of sense of smell]</td>\n",
              "      <td>0.434783</td>\n",
              "      <td>0.434783</td>\n",
              "      <td>1.0</td>\n",
              "    </tr>\n",
              "    <tr>\n",
              "      <th>1</th>\n",
              "      <td>[breathing problem]</td>\n",
              "      <td>0.449275</td>\n",
              "      <td>0.449275</td>\n",
              "      <td>1.0</td>\n",
              "    </tr>\n",
              "    <tr>\n",
              "      <th>2</th>\n",
              "      <td>[change in appetide]</td>\n",
              "      <td>0.405797</td>\n",
              "      <td>0.405797</td>\n",
              "      <td>1.0</td>\n",
              "    </tr>\n",
              "    <tr>\n",
              "      <th>3</th>\n",
              "      <td>[diabetes]</td>\n",
              "      <td>0.246377</td>\n",
              "      <td>0.246377</td>\n",
              "      <td>1.0</td>\n",
              "    </tr>\n",
              "    <tr>\n",
              "      <th>4</th>\n",
              "      <td>[drowsiness]</td>\n",
              "      <td>0.521739</td>\n",
              "      <td>0.521739</td>\n",
              "      <td>1.0</td>\n",
              "    </tr>\n",
              "    <tr>\n",
              "      <th>5</th>\n",
              "      <td>[heart disease]</td>\n",
              "      <td>0.072464</td>\n",
              "      <td>0.072464</td>\n",
              "      <td>1.0</td>\n",
              "    </tr>\n",
              "    <tr>\n",
              "      <th>6</th>\n",
              "      <td>[high blood pressue]</td>\n",
              "      <td>0.289855</td>\n",
              "      <td>0.289855</td>\n",
              "      <td>1.0</td>\n",
              "    </tr>\n",
              "    <tr>\n",
              "      <th>7</th>\n",
              "      <td>[kidney disease]</td>\n",
              "      <td>0.101449</td>\n",
              "      <td>0.101449</td>\n",
              "      <td>1.0</td>\n",
              "    </tr>\n",
              "    <tr>\n",
              "      <th>8</th>\n",
              "      <td>[lung disease]</td>\n",
              "      <td>0.130435</td>\n",
              "      <td>0.130435</td>\n",
              "      <td>1.0</td>\n",
              "    </tr>\n",
              "    <tr>\n",
              "      <th>9</th>\n",
              "      <td>[pain in chest]</td>\n",
              "      <td>0.420290</td>\n",
              "      <td>0.420290</td>\n",
              "      <td>1.0</td>\n",
              "    </tr>\n",
              "    <tr>\n",
              "      <th>10</th>\n",
              "      <td>[sour throat]</td>\n",
              "      <td>0.536232</td>\n",
              "      <td>0.536232</td>\n",
              "      <td>1.0</td>\n",
              "    </tr>\n",
              "    <tr>\n",
              "      <th>11</th>\n",
              "      <td>[stroke or reduced immunity]</td>\n",
              "      <td>0.188406</td>\n",
              "      <td>0.188406</td>\n",
              "      <td>1.0</td>\n",
              "    </tr>\n",
              "    <tr>\n",
              "      <th>12</th>\n",
              "      <td>[weakness]</td>\n",
              "      <td>0.463768</td>\n",
              "      <td>0.463768</td>\n",
              "      <td>1.0</td>\n",
              "    </tr>\n",
              "  </tbody>\n",
              "</table>\n",
              "</div>"
            ],
            "text/plain": [
              "                            rule   support  confidence  lift\n",
              "0       [Loss of sense of smell]  0.434783    0.434783   1.0\n",
              "1            [breathing problem]  0.449275    0.449275   1.0\n",
              "2           [change in appetide]  0.405797    0.405797   1.0\n",
              "3                     [diabetes]  0.246377    0.246377   1.0\n",
              "4                   [drowsiness]  0.521739    0.521739   1.0\n",
              "5                [heart disease]  0.072464    0.072464   1.0\n",
              "6           [high blood pressue]  0.289855    0.289855   1.0\n",
              "7               [kidney disease]  0.101449    0.101449   1.0\n",
              "8                 [lung disease]  0.130435    0.130435   1.0\n",
              "9                [pain in chest]  0.420290    0.420290   1.0\n",
              "10                 [sour throat]  0.536232    0.536232   1.0\n",
              "11  [stroke or reduced immunity]  0.188406    0.188406   1.0\n",
              "12                    [weakness]  0.463768    0.463768   1.0"
            ]
          },
          "metadata": {
            "tags": []
          },
          "execution_count": 218
        }
      ]
    },
    {
      "cell_type": "markdown",
      "metadata": {
        "id": "9poQiEo9VchQ",
        "colab_type": "text"
      },
      "source": [
        "Note : when lift = 1, it means there is no association between item(s). I got only single item rule in this case."
      ]
    },
    {
      "cell_type": "code",
      "metadata": {
        "id": "3R0jJPybb01G",
        "colab_type": "code",
        "colab": {
          "base_uri": "https://localhost:8080/",
          "height": 204
        },
        "outputId": "317b2417-4990-4306-94ef-fb7b036168c3"
      },
      "source": [
        "result_df.sort_values('lift', ascending=False)[:5]"
      ],
      "execution_count": 246,
      "outputs": [
        {
          "output_type": "execute_result",
          "data": {
            "text/html": [
              "<div>\n",
              "<style scoped>\n",
              "    .dataframe tbody tr th:only-of-type {\n",
              "        vertical-align: middle;\n",
              "    }\n",
              "\n",
              "    .dataframe tbody tr th {\n",
              "        vertical-align: top;\n",
              "    }\n",
              "\n",
              "    .dataframe thead th {\n",
              "        text-align: right;\n",
              "    }\n",
              "</style>\n",
              "<table border=\"1\" class=\"dataframe\">\n",
              "  <thead>\n",
              "    <tr style=\"text-align: right;\">\n",
              "      <th></th>\n",
              "      <th>rule</th>\n",
              "      <th>support</th>\n",
              "      <th>confidence</th>\n",
              "      <th>lift</th>\n",
              "    </tr>\n",
              "  </thead>\n",
              "  <tbody>\n",
              "    <tr>\n",
              "      <th>202</th>\n",
              "      <td>[drowsiness, kidney disease, heart disease]</td>\n",
              "      <td>0.028986</td>\n",
              "      <td>1.0</td>\n",
              "      <td>9.857143</td>\n",
              "    </tr>\n",
              "    <tr>\n",
              "      <th>437</th>\n",
              "      <td>[stroke or reduced immunity, drowsiness, kidne...</td>\n",
              "      <td>0.028986</td>\n",
              "      <td>1.0</td>\n",
              "      <td>5.307692</td>\n",
              "    </tr>\n",
              "    <tr>\n",
              "      <th>726</th>\n",
              "      <td>[breathing problem, change in appetide, sour t...</td>\n",
              "      <td>0.028986</td>\n",
              "      <td>1.0</td>\n",
              "      <td>5.307692</td>\n",
              "    </tr>\n",
              "    <tr>\n",
              "      <th>649</th>\n",
              "      <td>[breathing problem, diabetes, pain in chest, L...</td>\n",
              "      <td>0.028986</td>\n",
              "      <td>1.0</td>\n",
              "      <td>5.307692</td>\n",
              "    </tr>\n",
              "    <tr>\n",
              "      <th>651</th>\n",
              "      <td>[breathing problem, sour throat, diabetes, Los...</td>\n",
              "      <td>0.028986</td>\n",
              "      <td>1.0</td>\n",
              "      <td>5.307692</td>\n",
              "    </tr>\n",
              "  </tbody>\n",
              "</table>\n",
              "</div>"
            ],
            "text/plain": [
              "                                                  rule  ...      lift\n",
              "202        [drowsiness, kidney disease, heart disease]  ...  9.857143\n",
              "437  [stroke or reduced immunity, drowsiness, kidne...  ...  5.307692\n",
              "726  [breathing problem, change in appetide, sour t...  ...  5.307692\n",
              "649  [breathing problem, diabetes, pain in chest, L...  ...  5.307692\n",
              "651  [breathing problem, sour throat, diabetes, Los...  ...  5.307692\n",
              "\n",
              "[5 rows x 4 columns]"
            ]
          },
          "metadata": {
            "tags": []
          },
          "execution_count": 246
        }
      ]
    },
    {
      "cell_type": "markdown",
      "metadata": {
        "id": "mg9K7nDKgTkv",
        "colab_type": "text"
      },
      "source": [
        "The maximum lift items : drowsiness, kidney disease, and heart disease  \n",
        "support = 0.029 means that 2.9% of the records (or 2 out of 69) contains  drowsiness and kidney disease.  \n",
        "confidence = 1 means that 100% of the records (2 records in this case) also have heart disease.  \n",
        "lift = 9.857 means that the likelihood of drowsiness, kidney disease, and heart disease occur together is 9.857 times more than only heart disease."
      ]
    },
    {
      "cell_type": "code",
      "metadata": {
        "id": "MKfVPDJM3Ak_",
        "colab_type": "code",
        "colab": {}
      },
      "source": [
        "# function to investigate list of symptoms\n",
        "\n",
        "def symptoms_checker(symptoms):\n",
        "  symptom_occur_list = np.ones((len(result_df),), dtype=bool)\n",
        "\n",
        "  for symptom in symptoms :\n",
        "    temp_array = np.array([symptom in items for items in result_df['rule']])\n",
        "    symptom_occur_list = symptom_occur_list & temp_array\n",
        "    \n",
        "  return result_df[symptom_occur_list].sort_values('confidence', ascending=False)"
      ],
      "execution_count": 0,
      "outputs": []
    },
    {
      "cell_type": "markdown",
      "metadata": {
        "id": "JEfEQN8Jvd_t",
        "colab_type": "text"
      },
      "source": [
        "Let's look at the records contain 'heart disease'."
      ]
    },
    {
      "cell_type": "code",
      "metadata": {
        "id": "LOfGg1KEnzcq",
        "colab_type": "code",
        "colab": {
          "base_uri": "https://localhost:8080/",
          "height": 731
        },
        "outputId": "7821f7b9-6846-4309-d935-103e001ae774"
      },
      "source": [
        "symptom_df = symptoms_checker(['heart disease'])\n",
        "symptom_df"
      ],
      "execution_count": 318,
      "outputs": [
        {
          "output_type": "execute_result",
          "data": {
            "text/html": [
              "<div>\n",
              "<style scoped>\n",
              "    .dataframe tbody tr th:only-of-type {\n",
              "        vertical-align: middle;\n",
              "    }\n",
              "\n",
              "    .dataframe tbody tr th {\n",
              "        vertical-align: top;\n",
              "    }\n",
              "\n",
              "    .dataframe thead th {\n",
              "        text-align: right;\n",
              "    }\n",
              "</style>\n",
              "<table border=\"1\" class=\"dataframe\">\n",
              "  <thead>\n",
              "    <tr style=\"text-align: right;\">\n",
              "      <th></th>\n",
              "      <th>rule</th>\n",
              "      <th>support</th>\n",
              "      <th>confidence</th>\n",
              "      <th>lift</th>\n",
              "    </tr>\n",
              "  </thead>\n",
              "  <tbody>\n",
              "    <tr>\n",
              "      <th>204</th>\n",
              "      <td>[drowsiness, stroke or reduced immunity, heart...</td>\n",
              "      <td>0.028986</td>\n",
              "      <td>1.000000</td>\n",
              "      <td>5.307692</td>\n",
              "    </tr>\n",
              "    <tr>\n",
              "      <th>203</th>\n",
              "      <td>[drowsiness, sour throat, heart disease]</td>\n",
              "      <td>0.028986</td>\n",
              "      <td>1.000000</td>\n",
              "      <td>1.864865</td>\n",
              "    </tr>\n",
              "    <tr>\n",
              "      <th>443</th>\n",
              "      <td>[stroke or reduced immunity, kidney disease, s...</td>\n",
              "      <td>0.028986</td>\n",
              "      <td>1.000000</td>\n",
              "      <td>5.307692</td>\n",
              "    </tr>\n",
              "    <tr>\n",
              "      <th>434</th>\n",
              "      <td>[drowsiness, stroke or reduced immunity, sour ...</td>\n",
              "      <td>0.028986</td>\n",
              "      <td>1.000000</td>\n",
              "      <td>5.307692</td>\n",
              "    </tr>\n",
              "    <tr>\n",
              "      <th>433</th>\n",
              "      <td>[stroke or reduced immunity, drowsiness, kidne...</td>\n",
              "      <td>0.028986</td>\n",
              "      <td>1.000000</td>\n",
              "      <td>5.307692</td>\n",
              "    </tr>\n",
              "    <tr>\n",
              "      <th>432</th>\n",
              "      <td>[drowsiness, kidney disease, sour throat, hear...</td>\n",
              "      <td>0.028986</td>\n",
              "      <td>1.000000</td>\n",
              "      <td>1.864865</td>\n",
              "    </tr>\n",
              "    <tr>\n",
              "      <th>370</th>\n",
              "      <td>[pain in chest, breathing problem, sour throat...</td>\n",
              "      <td>0.028986</td>\n",
              "      <td>1.000000</td>\n",
              "      <td>1.864865</td>\n",
              "    </tr>\n",
              "    <tr>\n",
              "      <th>222</th>\n",
              "      <td>[pain in chest, sour throat, heart disease]</td>\n",
              "      <td>0.028986</td>\n",
              "      <td>1.000000</td>\n",
              "      <td>1.864865</td>\n",
              "    </tr>\n",
              "    <tr>\n",
              "      <th>221</th>\n",
              "      <td>[stroke or reduced immunity, kidney disease, h...</td>\n",
              "      <td>0.028986</td>\n",
              "      <td>1.000000</td>\n",
              "      <td>5.307692</td>\n",
              "    </tr>\n",
              "    <tr>\n",
              "      <th>220</th>\n",
              "      <td>[kidney disease, sour throat, heart disease]</td>\n",
              "      <td>0.028986</td>\n",
              "      <td>1.000000</td>\n",
              "      <td>1.864865</td>\n",
              "    </tr>\n",
              "    <tr>\n",
              "      <th>620</th>\n",
              "      <td>[sour throat, kidney disease, heart disease, d...</td>\n",
              "      <td>0.028986</td>\n",
              "      <td>1.000000</td>\n",
              "      <td>5.307692</td>\n",
              "    </tr>\n",
              "    <tr>\n",
              "      <th>202</th>\n",
              "      <td>[drowsiness, kidney disease, heart disease]</td>\n",
              "      <td>0.028986</td>\n",
              "      <td>1.000000</td>\n",
              "      <td>9.857143</td>\n",
              "    </tr>\n",
              "    <tr>\n",
              "      <th>60</th>\n",
              "      <td>[sour throat, heart disease]</td>\n",
              "      <td>0.057971</td>\n",
              "      <td>0.800000</td>\n",
              "      <td>1.491892</td>\n",
              "    </tr>\n",
              "    <tr>\n",
              "      <th>144</th>\n",
              "      <td>[breathing problem, sour throat, heart disease]</td>\n",
              "      <td>0.028986</td>\n",
              "      <td>0.666667</td>\n",
              "      <td>1.243243</td>\n",
              "    </tr>\n",
              "    <tr>\n",
              "      <th>143</th>\n",
              "      <td>[pain in chest, breathing problem, heart disease]</td>\n",
              "      <td>0.028986</td>\n",
              "      <td>0.666667</td>\n",
              "      <td>1.586207</td>\n",
              "    </tr>\n",
              "    <tr>\n",
              "      <th>223</th>\n",
              "      <td>[stroke or reduced immunity, sour throat, hear...</td>\n",
              "      <td>0.028986</td>\n",
              "      <td>0.500000</td>\n",
              "      <td>2.653846</td>\n",
              "    </tr>\n",
              "    <tr>\n",
              "      <th>61</th>\n",
              "      <td>[stroke or reduced immunity, heart disease]</td>\n",
              "      <td>0.028986</td>\n",
              "      <td>0.400000</td>\n",
              "      <td>2.123077</td>\n",
              "    </tr>\n",
              "    <tr>\n",
              "      <th>59</th>\n",
              "      <td>[pain in chest, heart disease]</td>\n",
              "      <td>0.028986</td>\n",
              "      <td>0.400000</td>\n",
              "      <td>0.951724</td>\n",
              "    </tr>\n",
              "    <tr>\n",
              "      <th>58</th>\n",
              "      <td>[kidney disease, heart disease]</td>\n",
              "      <td>0.028986</td>\n",
              "      <td>0.400000</td>\n",
              "      <td>3.942857</td>\n",
              "    </tr>\n",
              "    <tr>\n",
              "      <th>26</th>\n",
              "      <td>[breathing problem, heart disease]</td>\n",
              "      <td>0.043478</td>\n",
              "      <td>0.096774</td>\n",
              "      <td>1.335484</td>\n",
              "    </tr>\n",
              "    <tr>\n",
              "      <th>5</th>\n",
              "      <td>[heart disease]</td>\n",
              "      <td>0.072464</td>\n",
              "      <td>0.072464</td>\n",
              "      <td>1.000000</td>\n",
              "    </tr>\n",
              "    <tr>\n",
              "      <th>50</th>\n",
              "      <td>[drowsiness, heart disease]</td>\n",
              "      <td>0.028986</td>\n",
              "      <td>0.055556</td>\n",
              "      <td>0.766667</td>\n",
              "    </tr>\n",
              "  </tbody>\n",
              "</table>\n",
              "</div>"
            ],
            "text/plain": [
              "                                                  rule  ...      lift\n",
              "204  [drowsiness, stroke or reduced immunity, heart...  ...  5.307692\n",
              "203           [drowsiness, sour throat, heart disease]  ...  1.864865\n",
              "443  [stroke or reduced immunity, kidney disease, s...  ...  5.307692\n",
              "434  [drowsiness, stroke or reduced immunity, sour ...  ...  5.307692\n",
              "433  [stroke or reduced immunity, drowsiness, kidne...  ...  5.307692\n",
              "432  [drowsiness, kidney disease, sour throat, hear...  ...  1.864865\n",
              "370  [pain in chest, breathing problem, sour throat...  ...  1.864865\n",
              "222        [pain in chest, sour throat, heart disease]  ...  1.864865\n",
              "221  [stroke or reduced immunity, kidney disease, h...  ...  5.307692\n",
              "220       [kidney disease, sour throat, heart disease]  ...  1.864865\n",
              "620  [sour throat, kidney disease, heart disease, d...  ...  5.307692\n",
              "202        [drowsiness, kidney disease, heart disease]  ...  9.857143\n",
              "60                        [sour throat, heart disease]  ...  1.491892\n",
              "144    [breathing problem, sour throat, heart disease]  ...  1.243243\n",
              "143  [pain in chest, breathing problem, heart disease]  ...  1.586207\n",
              "223  [stroke or reduced immunity, sour throat, hear...  ...  2.653846\n",
              "61         [stroke or reduced immunity, heart disease]  ...  2.123077\n",
              "59                      [pain in chest, heart disease]  ...  0.951724\n",
              "58                     [kidney disease, heart disease]  ...  3.942857\n",
              "26                  [breathing problem, heart disease]  ...  1.335484\n",
              "5                                      [heart disease]  ...  1.000000\n",
              "50                         [drowsiness, heart disease]  ...  0.766667\n",
              "\n",
              "[22 rows x 4 columns]"
            ]
          },
          "metadata": {
            "tags": []
          },
          "execution_count": 318
        }
      ]
    },
    {
      "cell_type": "markdown",
      "metadata": {
        "id": "4X3Tcy6CxhNx",
        "colab_type": "text"
      },
      "source": [
        "consider 'heart disease' and 'drowsiness'"
      ]
    },
    {
      "cell_type": "code",
      "metadata": {
        "id": "MkHwFJV5yrTX",
        "colab_type": "code",
        "colab": {
          "base_uri": "https://localhost:8080/",
          "height": 297
        },
        "outputId": "cd616fb9-8b21-4d36-f678-4f33ab50dbb3"
      },
      "source": [
        "symptom_df = symptoms_checker(['heart disease','drowsiness'])\n",
        "symptom_df"
      ],
      "execution_count": 319,
      "outputs": [
        {
          "output_type": "execute_result",
          "data": {
            "text/html": [
              "<div>\n",
              "<style scoped>\n",
              "    .dataframe tbody tr th:only-of-type {\n",
              "        vertical-align: middle;\n",
              "    }\n",
              "\n",
              "    .dataframe tbody tr th {\n",
              "        vertical-align: top;\n",
              "    }\n",
              "\n",
              "    .dataframe thead th {\n",
              "        text-align: right;\n",
              "    }\n",
              "</style>\n",
              "<table border=\"1\" class=\"dataframe\">\n",
              "  <thead>\n",
              "    <tr style=\"text-align: right;\">\n",
              "      <th></th>\n",
              "      <th>rule</th>\n",
              "      <th>support</th>\n",
              "      <th>confidence</th>\n",
              "      <th>lift</th>\n",
              "    </tr>\n",
              "  </thead>\n",
              "  <tbody>\n",
              "    <tr>\n",
              "      <th>202</th>\n",
              "      <td>[drowsiness, kidney disease, heart disease]</td>\n",
              "      <td>0.028986</td>\n",
              "      <td>1.000000</td>\n",
              "      <td>9.857143</td>\n",
              "    </tr>\n",
              "    <tr>\n",
              "      <th>203</th>\n",
              "      <td>[drowsiness, sour throat, heart disease]</td>\n",
              "      <td>0.028986</td>\n",
              "      <td>1.000000</td>\n",
              "      <td>1.864865</td>\n",
              "    </tr>\n",
              "    <tr>\n",
              "      <th>204</th>\n",
              "      <td>[drowsiness, stroke or reduced immunity, heart...</td>\n",
              "      <td>0.028986</td>\n",
              "      <td>1.000000</td>\n",
              "      <td>5.307692</td>\n",
              "    </tr>\n",
              "    <tr>\n",
              "      <th>432</th>\n",
              "      <td>[drowsiness, kidney disease, sour throat, hear...</td>\n",
              "      <td>0.028986</td>\n",
              "      <td>1.000000</td>\n",
              "      <td>1.864865</td>\n",
              "    </tr>\n",
              "    <tr>\n",
              "      <th>433</th>\n",
              "      <td>[stroke or reduced immunity, drowsiness, kidne...</td>\n",
              "      <td>0.028986</td>\n",
              "      <td>1.000000</td>\n",
              "      <td>5.307692</td>\n",
              "    </tr>\n",
              "    <tr>\n",
              "      <th>434</th>\n",
              "      <td>[drowsiness, stroke or reduced immunity, sour ...</td>\n",
              "      <td>0.028986</td>\n",
              "      <td>1.000000</td>\n",
              "      <td>5.307692</td>\n",
              "    </tr>\n",
              "    <tr>\n",
              "      <th>620</th>\n",
              "      <td>[sour throat, kidney disease, heart disease, d...</td>\n",
              "      <td>0.028986</td>\n",
              "      <td>1.000000</td>\n",
              "      <td>5.307692</td>\n",
              "    </tr>\n",
              "    <tr>\n",
              "      <th>50</th>\n",
              "      <td>[drowsiness, heart disease]</td>\n",
              "      <td>0.028986</td>\n",
              "      <td>0.055556</td>\n",
              "      <td>0.766667</td>\n",
              "    </tr>\n",
              "  </tbody>\n",
              "</table>\n",
              "</div>"
            ],
            "text/plain": [
              "                                                  rule  ...      lift\n",
              "202        [drowsiness, kidney disease, heart disease]  ...  9.857143\n",
              "203           [drowsiness, sour throat, heart disease]  ...  1.864865\n",
              "204  [drowsiness, stroke or reduced immunity, heart...  ...  5.307692\n",
              "432  [drowsiness, kidney disease, sour throat, hear...  ...  1.864865\n",
              "433  [stroke or reduced immunity, drowsiness, kidne...  ...  5.307692\n",
              "434  [drowsiness, stroke or reduced immunity, sour ...  ...  5.307692\n",
              "620  [sour throat, kidney disease, heart disease, d...  ...  5.307692\n",
              "50                         [drowsiness, heart disease]  ...  0.766667\n",
              "\n",
              "[8 rows x 4 columns]"
            ]
          },
          "metadata": {
            "tags": []
          },
          "execution_count": 319
        }
      ]
    }
  ]
}