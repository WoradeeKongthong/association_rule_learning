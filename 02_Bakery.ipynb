{
  "nbformat": 4,
  "nbformat_minor": 0,
  "metadata": {
    "colab": {
      "name": "02_Bakery.ipynb",
      "provenance": [],
      "authorship_tag": "ABX9TyPL71QxSkgJeIZ1BfY8MDEU",
      "include_colab_link": true
    },
    "kernelspec": {
      "name": "python3",
      "display_name": "Python 3"
    }
  },
  "cells": [
    {
      "cell_type": "markdown",
      "metadata": {
        "id": "view-in-github",
        "colab_type": "text"
      },
      "source": [
        "<a href=\"https://colab.research.google.com/github/WoradeeKongthong/association_rule_learning/blob/master/02_Bakery.ipynb\" target=\"_parent\"><img src=\"https://colab.research.google.com/assets/colab-badge.svg\" alt=\"Open In Colab\"/></a>"
      ]
    },
    {
      "cell_type": "markdown",
      "metadata": {
        "id": "e_J5VN1P6AfL",
        "colab_type": "text"
      },
      "source": [
        "# Association Rule Learning\n",
        "\n",
        "Association rule learning of which products were bought together from a bakery.  \n",
        "data source : https://www.kaggle.com/sulmansarwar/transactions-from-a-bakery"
      ]
    },
    {
      "cell_type": "code",
      "metadata": {
        "id": "o3sgLC-D5-VA",
        "colab_type": "code",
        "colab": {
          "base_uri": "https://localhost:8080/",
          "height": 71
        },
        "outputId": "95b40340-c48b-479d-958a-058b162bf487"
      },
      "source": [
        "import numpy as np\n",
        "import pandas as pd\n",
        "from datetime import datetime\n",
        "import matplotlib.pyplot as plt\n",
        "import seaborn as sns"
      ],
      "execution_count": 1,
      "outputs": [
        {
          "output_type": "stream",
          "text": [
            "/usr/local/lib/python3.6/dist-packages/statsmodels/tools/_testing.py:19: FutureWarning: pandas.util.testing is deprecated. Use the functions in the public API at pandas.testing instead.\n",
            "  import pandas.util.testing as tm\n"
          ],
          "name": "stderr"
        }
      ]
    },
    {
      "cell_type": "markdown",
      "metadata": {
        "id": "dJ4WKJN7MRxY",
        "colab_type": "text"
      },
      "source": [
        "# Dataset"
      ]
    },
    {
      "cell_type": "code",
      "metadata": {
        "id": "rmd1ro9m8odZ",
        "colab_type": "code",
        "colab": {}
      },
      "source": [
        "df = pd.read_csv('https://raw.githubusercontent.com/WoradeeKongthong/association_rule_learning/master/BreadBasket_DMS.csv')"
      ],
      "execution_count": 0,
      "outputs": []
    },
    {
      "cell_type": "code",
      "metadata": {
        "id": "H77MW48V8sAM",
        "colab_type": "code",
        "colab": {
          "base_uri": "https://localhost:8080/",
          "height": 419
        },
        "outputId": "0dde4472-9d7b-47c7-bf54-22f5a61b2773"
      },
      "source": [
        "df"
      ],
      "execution_count": 3,
      "outputs": [
        {
          "output_type": "execute_result",
          "data": {
            "text/html": [
              "<div>\n",
              "<style scoped>\n",
              "    .dataframe tbody tr th:only-of-type {\n",
              "        vertical-align: middle;\n",
              "    }\n",
              "\n",
              "    .dataframe tbody tr th {\n",
              "        vertical-align: top;\n",
              "    }\n",
              "\n",
              "    .dataframe thead th {\n",
              "        text-align: right;\n",
              "    }\n",
              "</style>\n",
              "<table border=\"1\" class=\"dataframe\">\n",
              "  <thead>\n",
              "    <tr style=\"text-align: right;\">\n",
              "      <th></th>\n",
              "      <th>Date</th>\n",
              "      <th>Time</th>\n",
              "      <th>Transaction</th>\n",
              "      <th>Item</th>\n",
              "    </tr>\n",
              "  </thead>\n",
              "  <tbody>\n",
              "    <tr>\n",
              "      <th>0</th>\n",
              "      <td>2016-10-30</td>\n",
              "      <td>09:58:11</td>\n",
              "      <td>1</td>\n",
              "      <td>Bread</td>\n",
              "    </tr>\n",
              "    <tr>\n",
              "      <th>1</th>\n",
              "      <td>2016-10-30</td>\n",
              "      <td>10:05:34</td>\n",
              "      <td>2</td>\n",
              "      <td>Scandinavian</td>\n",
              "    </tr>\n",
              "    <tr>\n",
              "      <th>2</th>\n",
              "      <td>2016-10-30</td>\n",
              "      <td>10:05:34</td>\n",
              "      <td>2</td>\n",
              "      <td>Scandinavian</td>\n",
              "    </tr>\n",
              "    <tr>\n",
              "      <th>3</th>\n",
              "      <td>2016-10-30</td>\n",
              "      <td>10:07:57</td>\n",
              "      <td>3</td>\n",
              "      <td>Hot chocolate</td>\n",
              "    </tr>\n",
              "    <tr>\n",
              "      <th>4</th>\n",
              "      <td>2016-10-30</td>\n",
              "      <td>10:07:57</td>\n",
              "      <td>3</td>\n",
              "      <td>Jam</td>\n",
              "    </tr>\n",
              "    <tr>\n",
              "      <th>...</th>\n",
              "      <td>...</td>\n",
              "      <td>...</td>\n",
              "      <td>...</td>\n",
              "      <td>...</td>\n",
              "    </tr>\n",
              "    <tr>\n",
              "      <th>21288</th>\n",
              "      <td>2017-04-09</td>\n",
              "      <td>14:32:58</td>\n",
              "      <td>9682</td>\n",
              "      <td>Coffee</td>\n",
              "    </tr>\n",
              "    <tr>\n",
              "      <th>21289</th>\n",
              "      <td>2017-04-09</td>\n",
              "      <td>14:32:58</td>\n",
              "      <td>9682</td>\n",
              "      <td>Tea</td>\n",
              "    </tr>\n",
              "    <tr>\n",
              "      <th>21290</th>\n",
              "      <td>2017-04-09</td>\n",
              "      <td>14:57:06</td>\n",
              "      <td>9683</td>\n",
              "      <td>Coffee</td>\n",
              "    </tr>\n",
              "    <tr>\n",
              "      <th>21291</th>\n",
              "      <td>2017-04-09</td>\n",
              "      <td>14:57:06</td>\n",
              "      <td>9683</td>\n",
              "      <td>Pastry</td>\n",
              "    </tr>\n",
              "    <tr>\n",
              "      <th>21292</th>\n",
              "      <td>2017-04-09</td>\n",
              "      <td>15:04:24</td>\n",
              "      <td>9684</td>\n",
              "      <td>Smoothies</td>\n",
              "    </tr>\n",
              "  </tbody>\n",
              "</table>\n",
              "<p>21293 rows × 4 columns</p>\n",
              "</div>"
            ],
            "text/plain": [
              "             Date      Time  Transaction           Item\n",
              "0      2016-10-30  09:58:11            1          Bread\n",
              "1      2016-10-30  10:05:34            2   Scandinavian\n",
              "2      2016-10-30  10:05:34            2   Scandinavian\n",
              "3      2016-10-30  10:07:57            3  Hot chocolate\n",
              "4      2016-10-30  10:07:57            3            Jam\n",
              "...           ...       ...          ...            ...\n",
              "21288  2017-04-09  14:32:58         9682         Coffee\n",
              "21289  2017-04-09  14:32:58         9682            Tea\n",
              "21290  2017-04-09  14:57:06         9683         Coffee\n",
              "21291  2017-04-09  14:57:06         9683         Pastry\n",
              "21292  2017-04-09  15:04:24         9684      Smoothies\n",
              "\n",
              "[21293 rows x 4 columns]"
            ]
          },
          "metadata": {
            "tags": []
          },
          "execution_count": 3
        }
      ]
    },
    {
      "cell_type": "code",
      "metadata": {
        "id": "3yeESN5D9XcQ",
        "colab_type": "code",
        "colab": {
          "base_uri": "https://localhost:8080/",
          "height": 204
        },
        "outputId": "d396c2e2-91b9-4e41-ae08-f5b7b1c0bbf0"
      },
      "source": [
        "df.info()"
      ],
      "execution_count": 4,
      "outputs": [
        {
          "output_type": "stream",
          "text": [
            "<class 'pandas.core.frame.DataFrame'>\n",
            "RangeIndex: 21293 entries, 0 to 21292\n",
            "Data columns (total 4 columns):\n",
            " #   Column       Non-Null Count  Dtype \n",
            "---  ------       --------------  ----- \n",
            " 0   Date         21293 non-null  object\n",
            " 1   Time         21293 non-null  object\n",
            " 2   Transaction  21293 non-null  int64 \n",
            " 3   Item         21293 non-null  object\n",
            "dtypes: int64(1), object(3)\n",
            "memory usage: 665.5+ KB\n"
          ],
          "name": "stdout"
        }
      ]
    },
    {
      "cell_type": "code",
      "metadata": {
        "id": "jhScK6jA9gV-",
        "colab_type": "code",
        "colab": {
          "base_uri": "https://localhost:8080/",
          "height": 419
        },
        "outputId": "763196d0-f1dd-43fd-82cc-e10c9455f1d7"
      },
      "source": [
        "df['DateTime'] = pd.to_datetime(df['Date']+' '+df['Time'])\n",
        "df.drop(['Date','Time'], axis=1, inplace=True)\n",
        "df"
      ],
      "execution_count": 27,
      "outputs": [
        {
          "output_type": "execute_result",
          "data": {
            "text/html": [
              "<div>\n",
              "<style scoped>\n",
              "    .dataframe tbody tr th:only-of-type {\n",
              "        vertical-align: middle;\n",
              "    }\n",
              "\n",
              "    .dataframe tbody tr th {\n",
              "        vertical-align: top;\n",
              "    }\n",
              "\n",
              "    .dataframe thead th {\n",
              "        text-align: right;\n",
              "    }\n",
              "</style>\n",
              "<table border=\"1\" class=\"dataframe\">\n",
              "  <thead>\n",
              "    <tr style=\"text-align: right;\">\n",
              "      <th></th>\n",
              "      <th>Transaction</th>\n",
              "      <th>Item</th>\n",
              "      <th>DateTime</th>\n",
              "    </tr>\n",
              "  </thead>\n",
              "  <tbody>\n",
              "    <tr>\n",
              "      <th>0</th>\n",
              "      <td>1</td>\n",
              "      <td>Bread</td>\n",
              "      <td>2016-10-30 09:58:11</td>\n",
              "    </tr>\n",
              "    <tr>\n",
              "      <th>1</th>\n",
              "      <td>2</td>\n",
              "      <td>Scandinavian</td>\n",
              "      <td>2016-10-30 10:05:34</td>\n",
              "    </tr>\n",
              "    <tr>\n",
              "      <th>2</th>\n",
              "      <td>2</td>\n",
              "      <td>Scandinavian</td>\n",
              "      <td>2016-10-30 10:05:34</td>\n",
              "    </tr>\n",
              "    <tr>\n",
              "      <th>3</th>\n",
              "      <td>3</td>\n",
              "      <td>Hot chocolate</td>\n",
              "      <td>2016-10-30 10:07:57</td>\n",
              "    </tr>\n",
              "    <tr>\n",
              "      <th>4</th>\n",
              "      <td>3</td>\n",
              "      <td>Jam</td>\n",
              "      <td>2016-10-30 10:07:57</td>\n",
              "    </tr>\n",
              "    <tr>\n",
              "      <th>...</th>\n",
              "      <td>...</td>\n",
              "      <td>...</td>\n",
              "      <td>...</td>\n",
              "    </tr>\n",
              "    <tr>\n",
              "      <th>21288</th>\n",
              "      <td>9682</td>\n",
              "      <td>Coffee</td>\n",
              "      <td>2017-04-09 14:32:58</td>\n",
              "    </tr>\n",
              "    <tr>\n",
              "      <th>21289</th>\n",
              "      <td>9682</td>\n",
              "      <td>Tea</td>\n",
              "      <td>2017-04-09 14:32:58</td>\n",
              "    </tr>\n",
              "    <tr>\n",
              "      <th>21290</th>\n",
              "      <td>9683</td>\n",
              "      <td>Coffee</td>\n",
              "      <td>2017-04-09 14:57:06</td>\n",
              "    </tr>\n",
              "    <tr>\n",
              "      <th>21291</th>\n",
              "      <td>9683</td>\n",
              "      <td>Pastry</td>\n",
              "      <td>2017-04-09 14:57:06</td>\n",
              "    </tr>\n",
              "    <tr>\n",
              "      <th>21292</th>\n",
              "      <td>9684</td>\n",
              "      <td>Smoothies</td>\n",
              "      <td>2017-04-09 15:04:24</td>\n",
              "    </tr>\n",
              "  </tbody>\n",
              "</table>\n",
              "<p>21293 rows × 3 columns</p>\n",
              "</div>"
            ],
            "text/plain": [
              "       Transaction           Item            DateTime\n",
              "0                1          Bread 2016-10-30 09:58:11\n",
              "1                2   Scandinavian 2016-10-30 10:05:34\n",
              "2                2   Scandinavian 2016-10-30 10:05:34\n",
              "3                3  Hot chocolate 2016-10-30 10:07:57\n",
              "4                3            Jam 2016-10-30 10:07:57\n",
              "...            ...            ...                 ...\n",
              "21288         9682         Coffee 2017-04-09 14:32:58\n",
              "21289         9682            Tea 2017-04-09 14:32:58\n",
              "21290         9683         Coffee 2017-04-09 14:57:06\n",
              "21291         9683         Pastry 2017-04-09 14:57:06\n",
              "21292         9684      Smoothies 2017-04-09 15:04:24\n",
              "\n",
              "[21293 rows x 3 columns]"
            ]
          },
          "metadata": {
            "tags": []
          },
          "execution_count": 27
        }
      ]
    },
    {
      "cell_type": "markdown",
      "metadata": {
        "id": "-VeggmelMOh6",
        "colab_type": "text"
      },
      "source": [
        "# EDA"
      ]
    },
    {
      "cell_type": "code",
      "metadata": {
        "id": "tCOORZgi-SwK",
        "colab_type": "code",
        "colab": {
          "base_uri": "https://localhost:8080/",
          "height": 51
        },
        "outputId": "ee5d1dc6-ab4e-4999-a70f-272952a843f6"
      },
      "source": [
        "print('The record begins : ',df['DateTime'].min().date(),'\\nUntil : ',df['DateTime'].max().date())"
      ],
      "execution_count": 6,
      "outputs": [
        {
          "output_type": "stream",
          "text": [
            "The record begins :  2016-10-30 \n",
            "Until :  2017-04-09\n"
          ],
          "name": "stdout"
        }
      ]
    },
    {
      "cell_type": "code",
      "metadata": {
        "id": "4zb6GD1X80Sf",
        "colab_type": "code",
        "colab": {
          "base_uri": "https://localhost:8080/",
          "height": 68
        },
        "outputId": "3ade2af3-731c-4119-94b7-4235d38502ef"
      },
      "source": [
        "# number of transactions\n",
        "print('Number of transaction : ',df['Transaction'].nunique())\n",
        "print('Minimum number : ', df['Transaction'].min())\n",
        "print('Maximum number : ', df['Transaction'].max())"
      ],
      "execution_count": 7,
      "outputs": [
        {
          "output_type": "stream",
          "text": [
            "Number of transaction :  9531\n",
            "Minimum number :  1\n",
            "Maximum number :  9684\n"
          ],
          "name": "stdout"
        }
      ]
    },
    {
      "cell_type": "markdown",
      "metadata": {
        "id": "1-FDJnxfBFL1",
        "colab_type": "text"
      },
      "source": [
        "Note : some transactions are cancelled"
      ]
    },
    {
      "cell_type": "code",
      "metadata": {
        "id": "PM5trYPSBEuZ",
        "colab_type": "code",
        "colab": {
          "base_uri": "https://localhost:8080/",
          "height": 357
        },
        "outputId": "c2c7f392-9dfa-4c87-e94c-401d5df4c98f"
      },
      "source": [
        "print('Number of unique items : ', df['Item'].nunique())\n",
        "print(df['Item'].unique())"
      ],
      "execution_count": 8,
      "outputs": [
        {
          "output_type": "stream",
          "text": [
            "Number of unique items :  95\n",
            "['Bread' 'Scandinavian' 'Hot chocolate' 'Jam' 'Cookies' 'Muffin' 'Coffee'\n",
            " 'Pastry' 'Medialuna' 'Tea' 'NONE' 'Tartine' 'Basket' 'Mineral water'\n",
            " 'Farm House' 'Fudge' 'Juice' \"Ella's Kitchen Pouches\" 'Victorian Sponge'\n",
            " 'Frittata' 'Hearty & Seasonal' 'Soup' 'Pick and Mix Bowls' 'Smoothies'\n",
            " 'Cake' 'Mighty Protein' 'Chicken sand' 'Coke' 'My-5 Fruit Shoot'\n",
            " 'Focaccia' 'Sandwich' 'Alfajores' 'Eggs' 'Brownie' 'Dulce de Leche'\n",
            " 'Honey' 'The BART' 'Granola' 'Fairy Doors' 'Empanadas' 'Keeping It Local'\n",
            " 'Art Tray' 'Bowl Nic Pitt' 'Bread Pudding' 'Adjustment' 'Truffles'\n",
            " 'Chimichurri Oil' 'Bacon' 'Spread' 'Kids biscuit' 'Siblings'\n",
            " 'Caramel bites' 'Jammie Dodgers' 'Tiffin' 'Olum & polenta' 'Polenta'\n",
            " 'The Nomad' 'Hack the stack' 'Bakewell' 'Lemon and coconut' 'Toast'\n",
            " 'Scone' 'Crepes' 'Vegan mincepie' 'Bare Popcorn' 'Muesli' 'Crisps'\n",
            " 'Pintxos' 'Gingerbread syrup' 'Panatone' 'Brioche and salami'\n",
            " 'Afternoon with the baker' 'Salad' 'Chicken Stew' 'Spanish Brunch'\n",
            " 'Raspberry shortbread sandwich' 'Extra Salami or Feta' 'Duck egg'\n",
            " 'Baguette' \"Valentine's card\" 'Tshirt' 'Vegan Feast' 'Postcard'\n",
            " 'Nomad bag' 'Chocolates' 'Coffee granules ' 'Drinking chocolate spoons '\n",
            " 'Christmas common' 'Argentina Night' 'Half slice Monster ' 'Gift voucher'\n",
            " 'Cherry me Dried fruit' 'Mortimer' 'Raw bars' 'Tacos/Fajita']\n"
          ],
          "name": "stdout"
        }
      ]
    },
    {
      "cell_type": "code",
      "metadata": {
        "id": "4IQW6lxWB9vM",
        "colab_type": "code",
        "colab": {
          "base_uri": "https://localhost:8080/",
          "height": 482
        },
        "outputId": "af9ef987-be92-4afb-a1ed-8cd2b18926a4"
      },
      "source": [
        "plt.figure(figsize=(20,5))\n",
        "sns.countplot(data=df, x='Item')\n",
        "plt.xticks(rotation=90)\n",
        "plt.show()"
      ],
      "execution_count": 28,
      "outputs": [
        {
          "output_type": "display_data",
          "data": {
            "image/png": "[encoded data removed]",
            "text/plain": [
              "<Figure size 1440x360 with 1 Axes>"
            ]
          },
          "metadata": {
            "tags": [],
            "needs_background": "light"
          }
        }
      ]
    },
    {
      "cell_type": "markdown",
      "metadata": {
        "id": "41NYz9z3EnQH",
        "colab_type": "text"
      },
      "source": [
        "Note : most frequent ordered items are coffee and bread"
      ]
    },
    {
      "cell_type": "code",
      "metadata": {
        "id": "oFxPng0CFlPy",
        "colab_type": "code",
        "colab": {
          "base_uri": "https://localhost:8080/",
          "height": 419
        },
        "outputId": "589cfc77-21ea-42ad-9e22-2afd46cee9bb"
      },
      "source": [
        "df1 = df.copy()\n",
        "df1['hour'] = df1['DateTime'].dt.hour\n",
        "df1"
      ],
      "execution_count": 11,
      "outputs": [
        {
          "output_type": "execute_result",
          "data": {
            "text/html": [
              "<div>\n",
              "<style scoped>\n",
              "    .dataframe tbody tr th:only-of-type {\n",
              "        vertical-align: middle;\n",
              "    }\n",
              "\n",
              "    .dataframe tbody tr th {\n",
              "        vertical-align: top;\n",
              "    }\n",
              "\n",
              "    .dataframe thead th {\n",
              "        text-align: right;\n",
              "    }\n",
              "</style>\n",
              "<table border=\"1\" class=\"dataframe\">\n",
              "  <thead>\n",
              "    <tr style=\"text-align: right;\">\n",
              "      <th></th>\n",
              "      <th>Transaction</th>\n",
              "      <th>Item</th>\n",
              "      <th>DateTime</th>\n",
              "      <th>hour</th>\n",
              "    </tr>\n",
              "  </thead>\n",
              "  <tbody>\n",
              "    <tr>\n",
              "      <th>0</th>\n",
              "      <td>1</td>\n",
              "      <td>Bread</td>\n",
              "      <td>2016-10-30 09:58:11</td>\n",
              "      <td>9</td>\n",
              "    </tr>\n",
              "    <tr>\n",
              "      <th>1</th>\n",
              "      <td>2</td>\n",
              "      <td>Scandinavian</td>\n",
              "      <td>2016-10-30 10:05:34</td>\n",
              "      <td>10</td>\n",
              "    </tr>\n",
              "    <tr>\n",
              "      <th>2</th>\n",
              "      <td>2</td>\n",
              "      <td>Scandinavian</td>\n",
              "      <td>2016-10-30 10:05:34</td>\n",
              "      <td>10</td>\n",
              "    </tr>\n",
              "    <tr>\n",
              "      <th>3</th>\n",
              "      <td>3</td>\n",
              "      <td>Hot chocolate</td>\n",
              "      <td>2016-10-30 10:07:57</td>\n",
              "      <td>10</td>\n",
              "    </tr>\n",
              "    <tr>\n",
              "      <th>4</th>\n",
              "      <td>3</td>\n",
              "      <td>Jam</td>\n",
              "      <td>2016-10-30 10:07:57</td>\n",
              "      <td>10</td>\n",
              "    </tr>\n",
              "    <tr>\n",
              "      <th>...</th>\n",
              "      <td>...</td>\n",
              "      <td>...</td>\n",
              "      <td>...</td>\n",
              "      <td>...</td>\n",
              "    </tr>\n",
              "    <tr>\n",
              "      <th>21288</th>\n",
              "      <td>9682</td>\n",
              "      <td>Coffee</td>\n",
              "      <td>2017-04-09 14:32:58</td>\n",
              "      <td>14</td>\n",
              "    </tr>\n",
              "    <tr>\n",
              "      <th>21289</th>\n",
              "      <td>9682</td>\n",
              "      <td>Tea</td>\n",
              "      <td>2017-04-09 14:32:58</td>\n",
              "      <td>14</td>\n",
              "    </tr>\n",
              "    <tr>\n",
              "      <th>21290</th>\n",
              "      <td>9683</td>\n",
              "      <td>Coffee</td>\n",
              "      <td>2017-04-09 14:57:06</td>\n",
              "      <td>14</td>\n",
              "    </tr>\n",
              "    <tr>\n",
              "      <th>21291</th>\n",
              "      <td>9683</td>\n",
              "      <td>Pastry</td>\n",
              "      <td>2017-04-09 14:57:06</td>\n",
              "      <td>14</td>\n",
              "    </tr>\n",
              "    <tr>\n",
              "      <th>21292</th>\n",
              "      <td>9684</td>\n",
              "      <td>Smoothies</td>\n",
              "      <td>2017-04-09 15:04:24</td>\n",
              "      <td>15</td>\n",
              "    </tr>\n",
              "  </tbody>\n",
              "</table>\n",
              "<p>20507 rows × 4 columns</p>\n",
              "</div>"
            ],
            "text/plain": [
              "       Transaction           Item            DateTime  hour\n",
              "0                1          Bread 2016-10-30 09:58:11     9\n",
              "1                2   Scandinavian 2016-10-30 10:05:34    10\n",
              "2                2   Scandinavian 2016-10-30 10:05:34    10\n",
              "3                3  Hot chocolate 2016-10-30 10:07:57    10\n",
              "4                3            Jam 2016-10-30 10:07:57    10\n",
              "...            ...            ...                 ...   ...\n",
              "21288         9682         Coffee 2017-04-09 14:32:58    14\n",
              "21289         9682            Tea 2017-04-09 14:32:58    14\n",
              "21290         9683         Coffee 2017-04-09 14:57:06    14\n",
              "21291         9683         Pastry 2017-04-09 14:57:06    14\n",
              "21292         9684      Smoothies 2017-04-09 15:04:24    15\n",
              "\n",
              "[20507 rows x 4 columns]"
            ]
          },
          "metadata": {
            "tags": []
          },
          "execution_count": 11
        }
      ]
    },
    {
      "cell_type": "code",
      "metadata": {
        "id": "0MMrx9unE3Io",
        "colab_type": "code",
        "colab": {
          "base_uri": "https://localhost:8080/",
          "height": 260
        },
        "outputId": "18737501-1068-4d56-c6db-81e6326f6296"
      },
      "source": [
        "fig = plt.figure(figsize=(20,4))\n",
        "items = ['Coffee','Tea','Bread','Cake']\n",
        "index = 0\n",
        "\n",
        "for item in items :\n",
        "  fig.add_subplot(1,4,index+1)\n",
        "  sns.countplot(data=df1[df1['Item']==item], x='hour')\n",
        "  plt.title(item)\n",
        "  index+=1\n",
        "\n",
        "fig.tight_layout()\n",
        "plt.show()"
      ],
      "execution_count": 12,
      "outputs": [
        {
          "output_type": "display_data",
          "data": {
            "image/png": "[encoded data removed]",
            "text/plain": [
              "<Figure size 1440x288 with 4 Axes>"
            ]
          },
          "metadata": {
            "tags": [],
            "needs_background": "light"
          }
        }
      ]
    },
    {
      "cell_type": "markdown",
      "metadata": {
        "id": "XfY7LAVqKd7I",
        "colab_type": "text"
      },
      "source": [
        "Note :  \n",
        "Coffee is most frequently purchased around 11 am.  \n",
        "Tea is most frequently purchased around 2 pm.  \n",
        "Bread is most frequently purchased during lunch.  \n",
        "Cake is most frequently purchased from 2 pm."
      ]
    },
    {
      "cell_type": "markdown",
      "metadata": {
        "id": "aX__kOyeMirT",
        "colab_type": "text"
      },
      "source": [
        "# Data Preprocessor"
      ]
    },
    {
      "cell_type": "markdown",
      "metadata": {
        "id": "Ape-y-vSjX9V",
        "colab_type": "text"
      },
      "source": [
        "I'll drop the records that Item = NONE"
      ]
    },
    {
      "cell_type": "code",
      "metadata": {
        "id": "d7Y6qv-VMrrH",
        "colab_type": "code",
        "colab": {}
      },
      "source": [
        "transaction_number = [df['Transaction'].min()]\n",
        "basket = []\n",
        "purchase_list = []\n",
        "\n",
        "for i in range(len(df)):\n",
        "\n",
        "  transaction = df.loc[i,'Transaction']\n",
        "  item = df.loc[i,'Item']\n",
        "\n",
        "  if transaction in transaction_number:\n",
        "    # not include the 'NONE' item\n",
        "    if item != 'NONE':\n",
        "      # put the item to the basket\n",
        "      basket.append(item)\n",
        "\n",
        "  else:\n",
        "    # add transaction number in to the list\n",
        "    transaction_number.append(transaction)\n",
        "    # put the former basket to the purchase_list\n",
        "    purchase_list.append(basket)\n",
        "    # empty the basket for the next transaction items\n",
        "    basket = []\n",
        "    # put the item to the basket\n",
        "    if item != 'NONE':\n",
        "      basket.append(item)\n",
        "\n",
        "purchase_list.append(basket)"
      ],
      "execution_count": 0,
      "outputs": []
    },
    {
      "cell_type": "code",
      "metadata": {
        "id": "DzjtpBPPOpk5",
        "colab_type": "code",
        "colab": {
          "base_uri": "https://localhost:8080/",
          "height": 34
        },
        "outputId": "a73cfa7c-2689-4386-d3c9-726315c36f0c"
      },
      "source": [
        "len(purchase_list)"
      ],
      "execution_count": 48,
      "outputs": [
        {
          "output_type": "execute_result",
          "data": {
            "text/plain": [
              "9531"
            ]
          },
          "metadata": {
            "tags": []
          },
          "execution_count": 48
        }
      ]
    },
    {
      "cell_type": "code",
      "metadata": {
        "id": "kO66u8OqV9or",
        "colab_type": "code",
        "colab": {
          "base_uri": "https://localhost:8080/",
          "height": 187
        },
        "outputId": "e3ae95b6-f9ee-4cf6-94d7-ae7c2f0df016"
      },
      "source": [
        "purchase_list[:10]"
      ],
      "execution_count": 49,
      "outputs": [
        {
          "output_type": "execute_result",
          "data": {
            "text/plain": [
              "[['Bread'],\n",
              " ['Scandinavian', 'Scandinavian'],\n",
              " ['Hot chocolate', 'Jam', 'Cookies'],\n",
              " ['Muffin'],\n",
              " ['Coffee', 'Pastry', 'Bread'],\n",
              " ['Medialuna', 'Pastry', 'Muffin'],\n",
              " ['Medialuna', 'Pastry', 'Coffee', 'Tea'],\n",
              " ['Pastry', 'Bread'],\n",
              " ['Bread', 'Muffin'],\n",
              " ['Scandinavian', 'Medialuna']]"
            ]
          },
          "metadata": {
            "tags": []
          },
          "execution_count": 49
        }
      ]
    },
    {
      "cell_type": "code",
      "metadata": {
        "id": "qQRJgV5YYcew",
        "colab_type": "code",
        "colab": {
          "base_uri": "https://localhost:8080/",
          "height": 102
        },
        "outputId": "b7793f98-339c-4fc1-e9ec-d9461b4156fb"
      },
      "source": [
        "purchase_list[-5:]"
      ],
      "execution_count": 50,
      "outputs": [
        {
          "output_type": "execute_result",
          "data": {
            "text/plain": [
              "[['Bread'],\n",
              " ['Truffles', 'Tea', 'Spanish Brunch', 'Christmas common'],\n",
              " ['Muffin', 'Tacos/Fajita', 'Coffee', 'Tea'],\n",
              " ['Coffee', 'Pastry'],\n",
              " ['Smoothies']]"
            ]
          },
          "metadata": {
            "tags": []
          },
          "execution_count": 50
        }
      ]
    },
    {
      "cell_type": "markdown",
      "metadata": {
        "id": "8x8CuyvWMaBn",
        "colab_type": "text"
      },
      "source": [
        "# Priori model"
      ]
    },
    {
      "cell_type": "code",
      "metadata": {
        "id": "Q88_vDJ9YzGP",
        "colab_type": "code",
        "colab": {
          "base_uri": "https://localhost:8080/",
          "height": 34
        },
        "outputId": "bab89844-d620-4379-a4c5-2e41ab60f6ec"
      },
      "source": [
        "! pip install apyori"
      ],
      "execution_count": 51,
      "outputs": [
        {
          "output_type": "stream",
          "text": [
            "Requirement already satisfied: apyori in /usr/local/lib/python3.6/dist-packages (1.1.2)\n"
          ],
          "name": "stdout"
        }
      ]
    },
    {
      "cell_type": "code",
      "metadata": {
        "id": "GxjWoG-iYjlZ",
        "colab_type": "code",
        "colab": {}
      },
      "source": [
        "from apyori import apriori"
      ],
      "execution_count": 0,
      "outputs": []
    },
    {
      "cell_type": "code",
      "metadata": {
        "id": "jG0vMVeQZQG2",
        "colab_type": "code",
        "colab": {}
      },
      "source": [
        "rules = apriori(purchase_list, min_support=0.015, min_confidence=0.05, min_lift=1, min_length=2)"
      ],
      "execution_count": 0,
      "outputs": []
    },
    {
      "cell_type": "markdown",
      "metadata": {
        "id": "2dOz4jckZYr9",
        "colab_type": "text"
      },
      "source": [
        "Note :  \n",
        "- the data is 5 months record\n",
        "- we will consider the item that is bought at least once a day, or 7x4x5 = 140 times in 5 month  \n",
        "    min_support = 140/9531 = 0.015\n",
        "- let's set the minimum confidence to be 0.05, it means that at least 5% of transactions that contain item A will contain item B as well.\n",
        "- let min_lift = 1, it means that the likelihood of item A & B are bought together is at least 1 times more than that only item B is bought."
      ]
    },
    {
      "cell_type": "markdown",
      "metadata": {
        "id": "U50NchHyfoHq",
        "colab_type": "text"
      },
      "source": [
        "# Result"
      ]
    },
    {
      "cell_type": "code",
      "metadata": {
        "id": "sz0xlEIvbfBs",
        "colab_type": "code",
        "colab": {}
      },
      "source": [
        "result = list(rules)"
      ],
      "execution_count": 0,
      "outputs": []
    },
    {
      "cell_type": "code",
      "metadata": {
        "id": "yglJp-DTbjbi",
        "colab_type": "code",
        "colab": {
          "base_uri": "https://localhost:8080/",
          "height": 34
        },
        "outputId": "0fd733a0-bf67-433f-d00d-af1cfefc1f09"
      },
      "source": [
        "len(result)"
      ],
      "execution_count": 56,
      "outputs": [
        {
          "output_type": "execute_result",
          "data": {
            "text/plain": [
              "24"
            ]
          },
          "metadata": {
            "tags": []
          },
          "execution_count": 56
        }
      ]
    },
    {
      "cell_type": "markdown",
      "metadata": {
        "id": "sWMHD4vofql9",
        "colab_type": "text"
      },
      "source": [
        "Create result dataframe"
      ]
    },
    {
      "cell_type": "code",
      "metadata": {
        "id": "vPzOrdRYf0FS",
        "colab_type": "code",
        "colab": {}
      },
      "source": [
        "result_list = []\n",
        "for i in range(len(result)):\n",
        "  rule = list(result[i].items)\n",
        "  if len(rule) > 1:\n",
        "    support = result[i].support\n",
        "    confidence = result[i].ordered_statistics[0][2]\n",
        "    lift = result[i].ordered_statistics[0][3]\n",
        "\n",
        "    row = (rule,support,confidence,lift)\n",
        "    result_list.append(row)\n",
        "\n",
        "labels = ['rule','support','confidence','lift']\n",
        "result_df = pd.DataFrame(result_list, columns=labels)"
      ],
      "execution_count": 0,
      "outputs": []
    },
    {
      "cell_type": "code",
      "metadata": {
        "id": "6W6jh7nzhTD-",
        "colab_type": "code",
        "colab": {
          "base_uri": "https://localhost:8080/",
          "height": 514
        },
        "outputId": "010ea23c-91b7-41d0-98df-4708a3a29062"
      },
      "source": [
        "result_df.sort_values('lift', ascending=False)"
      ],
      "execution_count": 59,
      "outputs": [
        {
          "output_type": "execute_result",
          "data": {
            "text/html": [
              "<div>\n",
              "<style scoped>\n",
              "    .dataframe tbody tr th:only-of-type {\n",
              "        vertical-align: middle;\n",
              "    }\n",
              "\n",
              "    .dataframe tbody tr th {\n",
              "        vertical-align: top;\n",
              "    }\n",
              "\n",
              "    .dataframe thead th {\n",
              "        text-align: right;\n",
              "    }\n",
              "</style>\n",
              "<table border=\"1\" class=\"dataframe\">\n",
              "  <thead>\n",
              "    <tr style=\"text-align: right;\">\n",
              "      <th></th>\n",
              "      <th>rule</th>\n",
              "      <th>support</th>\n",
              "      <th>confidence</th>\n",
              "      <th>lift</th>\n",
              "    </tr>\n",
              "  </thead>\n",
              "  <tbody>\n",
              "    <tr>\n",
              "      <th>5</th>\n",
              "      <td>[Cake, Tea]</td>\n",
              "      <td>0.023607</td>\n",
              "      <td>0.228891</td>\n",
              "      <td>1.615972</td>\n",
              "    </tr>\n",
              "    <tr>\n",
              "      <th>14</th>\n",
              "      <td>[Toast, Coffee]</td>\n",
              "      <td>0.023502</td>\n",
              "      <td>0.704403</td>\n",
              "      <td>1.482699</td>\n",
              "    </tr>\n",
              "    <tr>\n",
              "      <th>9</th>\n",
              "      <td>[Medialuna, Coffee]</td>\n",
              "      <td>0.034939</td>\n",
              "      <td>0.073542</td>\n",
              "      <td>1.198175</td>\n",
              "    </tr>\n",
              "    <tr>\n",
              "      <th>11</th>\n",
              "      <td>[Pastry, Coffee]</td>\n",
              "      <td>0.047214</td>\n",
              "      <td>0.099382</td>\n",
              "      <td>1.162216</td>\n",
              "    </tr>\n",
              "    <tr>\n",
              "      <th>0</th>\n",
              "      <td>[Alfajores, Coffee]</td>\n",
              "      <td>0.019515</td>\n",
              "      <td>0.540698</td>\n",
              "      <td>1.138116</td>\n",
              "    </tr>\n",
              "    <tr>\n",
              "      <th>8</th>\n",
              "      <td>[Juice, Coffee]</td>\n",
              "      <td>0.020460</td>\n",
              "      <td>0.534247</td>\n",
              "      <td>1.124537</td>\n",
              "    </tr>\n",
              "    <tr>\n",
              "      <th>12</th>\n",
              "      <td>[Sandwich, Coffee]</td>\n",
              "      <td>0.037981</td>\n",
              "      <td>0.079947</td>\n",
              "      <td>1.120551</td>\n",
              "    </tr>\n",
              "    <tr>\n",
              "      <th>13</th>\n",
              "      <td>[Scone, Coffee]</td>\n",
              "      <td>0.017941</td>\n",
              "      <td>0.522936</td>\n",
              "      <td>1.100729</td>\n",
              "    </tr>\n",
              "    <tr>\n",
              "      <th>6</th>\n",
              "      <td>[Cookies, Coffee]</td>\n",
              "      <td>0.028014</td>\n",
              "      <td>0.058966</td>\n",
              "      <td>1.091280</td>\n",
              "    </tr>\n",
              "    <tr>\n",
              "      <th>7</th>\n",
              "      <td>[Hot chocolate, Coffee]</td>\n",
              "      <td>0.029378</td>\n",
              "      <td>0.061837</td>\n",
              "      <td>1.067704</td>\n",
              "    </tr>\n",
              "    <tr>\n",
              "      <th>2</th>\n",
              "      <td>[Pastry, Bread]</td>\n",
              "      <td>0.028958</td>\n",
              "      <td>0.089119</td>\n",
              "      <td>1.042194</td>\n",
              "    </tr>\n",
              "    <tr>\n",
              "      <th>3</th>\n",
              "      <td>[Coffee, Brownie]</td>\n",
              "      <td>0.019515</td>\n",
              "      <td>0.490765</td>\n",
              "      <td>1.033013</td>\n",
              "    </tr>\n",
              "    <tr>\n",
              "      <th>10</th>\n",
              "      <td>[Muffin, Coffee]</td>\n",
              "      <td>0.018676</td>\n",
              "      <td>0.489011</td>\n",
              "      <td>1.029321</td>\n",
              "    </tr>\n",
              "    <tr>\n",
              "      <th>1</th>\n",
              "      <td>[Coffee, Bread]</td>\n",
              "      <td>0.089393</td>\n",
              "      <td>0.089393</td>\n",
              "      <td>1.000000</td>\n",
              "    </tr>\n",
              "    <tr>\n",
              "      <th>4</th>\n",
              "      <td>[Cake, Coffee]</td>\n",
              "      <td>0.054349</td>\n",
              "      <td>0.054349</td>\n",
              "      <td>1.000000</td>\n",
              "    </tr>\n",
              "  </tbody>\n",
              "</table>\n",
              "</div>"
            ],
            "text/plain": [
              "                       rule   support  confidence      lift\n",
              "5               [Cake, Tea]  0.023607    0.228891  1.615972\n",
              "14          [Toast, Coffee]  0.023502    0.704403  1.482699\n",
              "9       [Medialuna, Coffee]  0.034939    0.073542  1.198175\n",
              "11         [Pastry, Coffee]  0.047214    0.099382  1.162216\n",
              "0       [Alfajores, Coffee]  0.019515    0.540698  1.138116\n",
              "8           [Juice, Coffee]  0.020460    0.534247  1.124537\n",
              "12       [Sandwich, Coffee]  0.037981    0.079947  1.120551\n",
              "13          [Scone, Coffee]  0.017941    0.522936  1.100729\n",
              "6         [Cookies, Coffee]  0.028014    0.058966  1.091280\n",
              "7   [Hot chocolate, Coffee]  0.029378    0.061837  1.067704\n",
              "2           [Pastry, Bread]  0.028958    0.089119  1.042194\n",
              "3         [Coffee, Brownie]  0.019515    0.490765  1.033013\n",
              "10         [Muffin, Coffee]  0.018676    0.489011  1.029321\n",
              "1           [Coffee, Bread]  0.089393    0.089393  1.000000\n",
              "4            [Cake, Coffee]  0.054349    0.054349  1.000000"
            ]
          },
          "metadata": {
            "tags": []
          },
          "execution_count": 59
        }
      ]
    },
    {
      "cell_type": "markdown",
      "metadata": {
        "id": "vaB9Mtpb8prJ",
        "colab_type": "text"
      },
      "source": [
        "Note :  \n",
        "Let's discuss the first rule :  Cake & Tea    \n",
        "\n",
        "*   (support = 0.024) 2.4% of the transactions in 5 months contain Cake.\n",
        "*   (confidence = 0.229) 22.9 % of the customers that buy Cake, also buy Tea.\n",
        "*   (lift = 1.62) the likelihood of buying Cake and Tea together is 1.62 times more than the likelihood of buying just Tea.  \n",
        "\n",
        "The second rule :  Toast & Coffee  \n",
        "\n",
        "*   (support = 0.024) 2.4% of the transactions in 5 months contain Toast.\n",
        "*   (confidence = 0.704) 70.4 % of the customers that buy Toast, also buy Coffee. (This is the highest confidence, it's the most popular combination)\n",
        "*   (lift = 1.48) the likelihood of buying Toast and Coffee together is 1.48 times more than the likelihood of buying just Coffee.  \n",
        "\n",
        "rule :  Coffee & Bread    \n",
        "\n",
        "*   (support = 0.089 and confidence = 0.089) It's because the model's Item_base is empty set [] and add (Coffee,Bread) combination to calculate confidence. So the likelihood that customer buy Coffee and Bread combination is 8.9% of all transactions.\n",
        "*   (lift = 1) the model found out that Coffee and Bread have no association. \n",
        "\n",
        "rule :  Cake & Coffee    \n",
        "\n",
        "*   (support = 0.054 and confidence = 0.054) It's because the model's Item_base is empty set [] and add (Cake,Coffee) combination to calculate confidence. So the likelihood that customer buy Cake and Coffee combination is 5.4% of all transactions.\n",
        "*   (lift = 1) the model found out that Cake and Coffee have no association. "
      ]
    },
    {
      "cell_type": "code",
      "metadata": {
        "id": "ozutB30m_9BN",
        "colab_type": "code",
        "colab": {
          "base_uri": "https://localhost:8080/",
          "height": 54
        },
        "outputId": "3c279809-af86-43cf-d6af-90e3d958cb2a"
      },
      "source": [
        "result[10]"
      ],
      "execution_count": 63,
      "outputs": [
        {
          "output_type": "execute_result",
          "data": {
            "text/plain": [
              "RelationRecord(items=frozenset({'Coffee', 'Bread'}), support=0.08939250865596475, ordered_statistics=[OrderedStatistic(items_base=frozenset(), items_add=frozenset({'Coffee', 'Bread'}), confidence=0.08939250865596475, lift=1.0)])"
            ]
          },
          "metadata": {
            "tags": []
          },
          "execution_count": 63
        }
      ]
    }
  ]
}